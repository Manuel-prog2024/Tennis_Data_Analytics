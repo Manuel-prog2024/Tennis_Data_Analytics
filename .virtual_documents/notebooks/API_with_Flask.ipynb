from flask import Flask, jsonify
import pandas as pd

app = Flask(__name__)

# Load the CSV data
df = pd.read_csv('atp_matches_combined_cleaned.csv')

@app.route('/top_players', methods=['GET'])
def top_players():
    top_10 = df.groupby('winner_name').size().sort_values(ascending=False).head(10)
    return jsonify(top_10.to_dict())

@app.route('/surface_stats', methods=['GET'])
def surface_stats():
    surface_stats = df.groupby('surface').agg({
        'minutes': 'mean',
        'w_ace': 'mean',
        'l_ace': 'mean'
    }).round(2)
    return jsonify(surface_stats.to_dict())

@app.route('/player_stats/<player_name>', methods=['GET'])
def player_stats(player_name):
    player_data = df[df['winner_name'] == player_name].agg({
        'w_ace': 'mean',
        'w_df': 'mean',
        'w_svpt': 'mean',
        'w_1stWon': 'mean',
        'w_2ndWon': 'mean'
    }).round(2)
    return jsonify(player_data.to_dict())

if __name__ == '__main__':
    app.run(debug=True)
