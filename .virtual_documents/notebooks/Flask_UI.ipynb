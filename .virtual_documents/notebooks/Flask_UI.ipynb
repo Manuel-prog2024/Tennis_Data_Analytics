import pandas as pd
#import dash
from dash import dcc, html
from dash.dependencies import Input, Output
import plotly.express as px

# Charger les données
df = pd.read_csv('atp_matches_combined_cleaned.csv')

# Initialiser l'application Dash
app = dash.Dash(__name__)

# Définir la mise en page de l'application
app.layout = html.Div([
    html.H1("Visualisation des données de tennis ATP"),
    
    html.Div([
        html.Div([
            html.Label("Type de graphique"),
            dcc.Dropdown(
                id='graph-type',
                options=[
                    {'label': 'Nuage de points', 'value': 'scatter'},
                    {'label': 'Boîte à moustaches', 'value': 'box'},
                    {'label': 'Histogramme', 'value': 'histogram'}
                ],
                value='scatter'
            )
        ], style={'width': '30%', 'display': 'inline-block'}),
        
        html.Div([
            html.Label("Variable X"),
            dcc.Dropdown(
                id='x-variable',
                options=[{'label': col, 'value': col} for col in df.columns],
                value='winner_age'
            )
        ], style={'width': '30%', 'display': 'inline-block'}),
        
        html.Div([
            html.Label("Variable Y"),
            dcc.Dropdown(
                id='y-variable',
                options=[{'label': col, 'value': col} for col in df.columns],
                value='loser_age'
            )
        ], style={'width': '30%', 'display': 'inline-block'})
    ]),
    
    dcc.Graph(id='tennis-graph')
])

# Définir le callback pour mettre à jour le graphique
@app.callback(
    Output('tennis-graph', 'figure'),
    [Input('graph-type', 'value'),
     Input('x-variable', 'value'),
     Input('y-variable', 'value')]
)
def update_graph(graph_type, x_variable, y_variable):
    if graph_type == 'scatter':
        fig = px.scatter(df, x=x_variable, y=y_variable, title=f"{x_variable} vs {y_variable}")
    elif graph_type == 'box':
        fig = px.box(df, x=x_variable, y=y_variable, title=f"Distribution de {y_variable} par {x_variable}")
    elif graph_type == 'histogram':
        fig = px.histogram(df, x=x_variable, title=f"Distribution de {x_variable}")
    
    return fig

# Lancer l'application
if __name__ == '__main__':
    app.run_server(debug=True)







