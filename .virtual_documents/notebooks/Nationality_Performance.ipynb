import sys                             # system module 
import pandas as pd                    # data package
import matplotlib.pyplot as plt        # graphics module  
import datetime as dt                  # date and time module
import numpy as np                     # foundation for pandas 





atp_matches2022 = 'https://raw.githubusercontent.com/JeffSackmann/tennis_atp/master/atp_matches_2022.csv' # 2022 match data
atp_matches2023 = 'https://raw.githubusercontent.com/JeffSackmann/tennis_atp/master/atp_matches_2023.csv' # 2023 match data
atp_matches2024 = 'https://raw.githubusercontent.com/JeffSackmann/tennis_atp/master/atp_matches_2024.csv' # 2024 match data
# convert each csv file into data frames
df_matches2022 = pd.read_csv(atp_matches2022)
df_matches2023 = pd.read_csv(atp_matches2023)
df_matches2024 = pd.read_csv(atp_matches2024)



atp_rankings_current = 'https://raw.githubusercontent.com/JeffSackmann/tennis_atp/master/atp_rankings_current.csv'
rankings_current_df = pd.read_csv(atp_rankings_current)

rankings_current_df.shape


rankings_current_df.dtypes


rankings_current_df.info()#No null values


rankings_current_df['ranking_date'] = pd.to_datetime(rankings_current_df['ranking_date'], format='%Y%m%d')
print(rankings_current_df.dtypes)


rankings_current_df['ranking_date'] 


# Identify duplicate rows
print("Number of duplicate rows:", rankings_current_df.duplicated().sum())

# Drop duplicates and keep only the first occurrence
# Reset the index to ensure consistency after combining data
rankings_current_df_without_duplicates = rankings_current_df.drop_duplicates(keep='first').reset_index(drop=True)

print("Number of duplicate rows after handling:", rankings_current_df.duplicated().sum())


rankings_current_df.to_csv('atp_rankings_current_cleaned.csv',index=False) 





#atp_players = 'https://github.com/JeffSackmann/tennis_atp/blob/master/atp_players.csv'
atp_players = 'https://raw.githubusercontent.com/JeffSackmann/tennis_atp/master/atp_players.csv'
players_df = pd.read_csv(atp_players)


players_df.shape


players_df.dtypes


players_df.info()


import pandas as pd
# data type Conversion into date 
players_df['dob'] = pd.to_datetime(players_df['dob'], format='%Y%m%d', errors='coerce')
print(players_df['dob'].dtypes)


players_df.dtypes


# Create a new column 'name_full' by concatenating 'name_first' and 'name_last'
players_df['name_full'] = players_df['name_first'] + ' ' + players_df['name_last']

# Print the dataframe to check the new column
print(players_df)


players_df.to_csv('atp_players_concatenated.csv',index=False) 


# Drop the 'name_first' and 'name_last' columns
players_df = players_df.drop(['name_first', 'name_last'], axis=1)

# Reorder the columns so that 'name_full' is after 'player_id'
cols = list(players_df.columns)
cols.insert(cols.index('player_id') + 1, cols.pop(cols.index('name_full')))
players_df = players_df.loc[:, cols]

# Print the dataframe to check the changes
print(players_df)


# Drop columns with null values
players_df = players_df.dropna(subset=['name_full', 'dob', 'height', 'hand', 'ioc', 'wikidata_id'])
# Print the dataframe to check the changes
print(players_df)


players_df.to_csv('atp_players_concat_cleaned.csv',index=False) 








atp_combined_df = pd.concat([df_matches2022, df_matches2023, df_matches2024], ignore_index=True)
atp_combined_df.head(10)











atp_combined_df.shape





atp_combined_df.dtypes





atp_combined_df.info()





atp_combined_df['tourney_date'] = pd.to_datetime(atp_combined_df['tourney_date'], format='%Y%m%d')
print(atp_combined_df.dtypes)





atp_combined_df['tourney_date'] 





# Identify duplicate rows
print("Number of duplicate rows:", atp_combined_df.duplicated().sum())

# Drop duplicates and keep only the first occurrence
# Reset the index to ensure consistency after combining data
atp_combined_df_no_duplicates = atp_combined_df.drop_duplicates(keep='first').reset_index(drop=True)

print("Number of duplicate rows after handling:", atp_combined_df.duplicated().sum())





columns_to_drop = ['tourney_id', 'draw_size', 'winner_seed', 'winner_entry', 'loser_seed', 'loser_entry', 'tourney_name', 'tourney_date', 'match_num', 'winner_id', 'loser_id']
atp_combined_df = atp_combined_df.drop(columns=columns_to_drop)


atp_combined_df.shape





# Replace missing values with underscore
#atp_combined_df['surface'] = atp_combined_df['surface'].fillna("_")
#atp_combined_df = atp_combined_df.fillna(0.00).tail()

# Find the most frequent value in the 'surface' column
most_frequent_surface = (atp_combined_df['surface'].mode().iloc[0])

# Replace missing values with the most frequent value
atp_combined_df['surface'] = atp_combined_df['surface'].fillna(most_frequent_surface)
    


#identifying missing values
atp_combined_df.isnull().sum()


atp_combined_df.shape


atp_combined_df.to_csv('atp_matches_combined_cleaned.csv',index=False) 





import matplotlib.pyplot as plt
import seaborn as sns

# Min and Max age of the winners
min_age = atp_combined_df['winner_age'].min()
max_age = atp_combined_df['winner_age'].max()

print(f"Minimum age: {min_age}")
print(f"Maximum age: {max_age}")


#Calculate descriptive statistics
print(atp_combined_df.describe())


import pandas as pd
import matplotlib.pyplot as plt
import seaborn as sns
# Create histogram of winner rank
plt.hist(atp_combined_df['winner_rank'], bins=30)
plt.title('Distribution of Winner Rank')
plt.xlabel('Rank')
plt.ylabel('Frequency')
plt.show()


# Create scatter plot of winner rank vs. winner serve points won
plt.scatter(atp_combined_df['winner_rank'], atp_combined_df['w_SvGms'])
plt.title('Winner Rank vs. Serve Points Won')
plt.xlabel('Rank')
plt.ylabel('Serve Points Won')
plt.show()

# The players with the best ranking have more winning service points. 


# Distribution of aces by surface type
How different court surfaces affect serving performance in high-level tennis tournaments, 
highlighting the relationship between court characteristics and the effectiveness of serves. 

import seaborn as sns
atp_combined_df_h = atp_combined_df[atp_combined_df['tourney_level'].astype(str).isin(['G','M'])].copy()
atp_combined_df_h['w_ace'] = atp_combined_df_h['w_ace'].astype(float)
g = sns.boxplot(x="surface", y="w_ace", data=atp_combined_df_h)
g.set(xlabel='Surface', ylabel='Aces')








import pandas as pd
import matplotlib.pyplot as plt

#columns choosen
dimensions = ['winner_rank','loser_rank','winner_age','loser_age','winner_ht','loser_ht','w_svpt','l_svpt']

plt.figure(1, figsize=(20,12))

for i in range(1,9):
    plt.subplot(2,4,i)
    atp_combined_df[dimensions[i-1]].plot(kind='hist', title=dimensions[i-1])









# Calculate serve percentage for winner
atp_combined_df['w_serve_pct'] = atp_combined_df['w_1stWon'] / atp_combined_df['w_svpt']

# Calculate return percentage for winner
atp_combined_df['w_return_pct'] = (atp_combined_df['w_1stWon'] + atp_combined_df['w_2ndWon']) / (atp_combined_df['w_svpt'] + atp_combined_df['w_df'])

# Calculate serve percentage for loser
atp_combined_df['l_serve_pct'] = atp_combined_df['l_1stWon'] / atp_combined_df['l_svpt']

# Calculate return percentage for loser
atp_combined_df['l_return_pct'] = (atp_combined_df['l_1stWon'] + atp_combined_df['l_2ndWon']) / (atp_combined_df['l_svpt'] + atp_combined_df['l_df'])

# Calculate difference in serve percentage and return percentage between winner and loser
atp_combined_df['serve_pct_diff'] = atp_combined_df['w_serve_pct'] - atp_combined_df['l_serve_pct']
atp_combined_df['return_pct_diff'] = atp_combined_df['w_return_pct'] - atp_combined_df['l_return_pct']['w_serve_pct'] = atp_combined_df['w_1stWon'] / atp_combined_df['w_svpt']

# Calculate return percentage for winner
atp_combined_df['w_return_pct'] = (atp_combined_df['w_1stWon'] + atp_combined_df['w_2ndWon']) / (atp_combined_df['w_svpt'] + atp_combined_df['w_df'])

# Calculate serve percentage for loser
atp_combined_df['l_serve_pct'] = atp_combined_df['l_1stWon'] / atp_combined_df['l_svpt']

# Calculate return percentage for loser
atp_combined_df['l_return_pct'] = (atp_combined_df['l_1stWon'] + atp_combined_df['l_2ndWon']) / (atp_combined_df['l_svpt'] + atp_combined_df['l_df'])

# Calculate difference in serve percentage and return percentage between winner and loser
atp_combined_df['serve_pct_diff'] = atp_combined_df['w_serve_pct'] - atp_combined_df['l_serve_pct']
atp_combined_df['return_pct_diff'] = atp_combined_df['w_return_pct'] - atp_combined_df['l_return_pct']






print(atp_combined_df.describe(include='number'))





# Counts for 'best_of' column.
atp_combined_df['best_of'].value_counts()





# Counts for 'winner_hand' column.
atp_combined_df['winner_hand'].value_counts()





winner_3_sets = atp_combined_df[atp_combined_df['best_of'].isin([3])]
winner_3_sets





countries=['USA', 'GER', 'ESP', 'SRB', 'ITA', 'POL', 'NOR', 'URU', 'VIE', 'RSA'] ## we'll use this list right now.

countries = [country.strip().upper() for country in countries]
avg_LoT_won_mean.index = avg_LoT_won_mean.index.str.strip().str.upper()

# Average of length of time for matches that a country won
avg_LoT_won = winner_3_sets[['winner_ioc','minutes']].groupby('winner_ioc')
avg_LoT_won_mean=avg_LoT_won.mean()
#minWon=
minWon= avg_LoT_won_mean.loc[countries] #pull average match length for the listing of countries above

# because there is a winner_ioc and a loser_ioc, we have to rename the index to countries in order to combine the dataframes
minWon.index.name='Country'
minWon


print(winner_3_sets['winner_ioc'].unique())






avg_LoT_lost = winner_3_sets[['loser_ioc','minutes']].groupby('loser_ioc')
avg_LoT_lost_mean = avg_LoT_lost.mean()
minLost = avg_LoT_lost_mean.loc[countries]
minLost.index.name = 'Country'
minLost





minLost['minutesWon']=minWon['minutes']
minLost['Average']= (minLost['minutes']+minLost['minutesWon'])/2
minLost


#Average column represents the average time for all matches.
minLost['Average'] = average_values


import seaborn as sns
import matplotlib.pyplot as plt
import numpy as np

minLost[minLost['Average'].plot(kind='bar',
                    ylim= (80,105))


print(minLost.columns)











# counts the number of rows in the df where the 'winner_hand' column is 'R' (right-handed) 
# and the 'loser_hand' column is 'L' (left-handed). 
#giving the number of matches won by right-handed players against left-handed players.
R = len(atp_combined_df[(atp_combined_df.winner_hand == 'R') & (atp_combined_df.loser_hand == 'L')])
#Similar to the previous line, but here for left-handed players against right-handed one.
L = len(atp_combined_df[(atp_combined_df.winner_hand == 'L') & (atp_combined_df.loser_hand == 'R')])
# The win percentage is calculated as the number of matches won by right-handed players (R) 
# divided by the total number of matches played between right-handed and left-handed players (R + L), 
# multiplied by 100 to get the percentage and finally round the percentage to 2 decimal places.
if R + L > 0:
    percentage = round(100 * np.true_divide(R, R + L), 2)
    print(f'The right hand player has a {percentage}% chance of winning against a left hand player')
else:
    print("No data available for right-handed vs left-handed matches")


print("R:", R)
print("L:", L)


print(atp_combined_df['winner_hand'].value_counts())
print(atp_combined_df['loser_hand'].value_counts())


import seaborn as sns
import matplotlib.pyplot as plt
import numpy as np

sns.distplot(np.random.binomial(R + L, 0.5, 100000),np.arange(9300,9900,1))
plt.plot(R,0,'o', markersize = 20)
plt.title('Binomial distribution of ' + str(L+R) + ' Coin tosses')
plt.xlabel('Number of wins for the right-handed players')
plt.legend(['# of actual right-hand wins over left-handed players','Binomial Distribution'], loc = 2)
print(R)











import pandas as pd
import numpy as np
from scipy import stats


# Filtering for hard and clay court matches
hard_court_ages = atp_combined_df[atp_combined_df['surface'] == 'Hard']['winner_age']
clay_court_ages = atp_combined_df[atp_combined_df['surface'] == 'Clay']['winner_age']

# Performing independent t-test
t_statistic, p_value = stats.ttest_ind(hard_court_ages, clay_court_ages)

print(f"T-statistic: {t_statistic}")
print(f"P-value: {p_value}")

# Interpret results
alpha = 0.05 #significance level
if p_value < alpha:
    print("Reject the null hypothesis. There is a significant difference in winner's age between hard and clay courts.")
else:
    print("Fail to reject the null hypothesis. There is no significant difference in winner's age between hard and clay courts.")





from scipy.stats import chi2_contingency

# Create contingency table
contingency_table = pd.crosstab(atp_combined_df['winner_hand'], columns='count')

# Perform chi-square test
chi2, p_value, dof, expected = stats.chi2_contingency(contingency_table)

print("Chi-square test for handedness of winners:")
print(f"Chi-square statistic: {chi2}")
print(f"p-value: {p_value}") 
#If the p-value is less than 0.05, there's a significant association between handedness and winning probability.








# The Pearson correlation test examines the relationship between a player's height and the number of aces served.
# A positive correlation coefficient indicates that taller players tend to serve more aces. 
# If the p-value is less than 0.05, this relationship is significant.
import pandas as pd
import numpy as np
import matplotlib.pyplot as plt
import scipy.stats as st

# Calculate correlation coefficient and p-value
corr_coef, p_value = stats.pearsonr(atp_combined_df['winner_ht'], atp_combined_df['w_ace'])

print("Correlation between winner's height and aces:")
print(f"Correlation coefficient: {corr_coef}")
print(f"p-value: {p_value}")






# Calculate win rates for each country (ioc) on each surface
win_rates = atp_combined_df.groupby(['winner_ioc', 'surface']).size().unstack(fill_value=0)
win_rates = win_rates.div(win_rates.sum(axis=1), axis=0)

# Perform one-way ANOVA for win rates on different surfaces
surfaces = ['Hard', 'Clay', 'Grass']
surface_rates = [win_rates[surface].dropna() for surface in surfaces]

f_statistic, p_value = stats.f_oneway(*surface_rates)

print("One-way ANOVA for IOC win rates on different surfaces:")
print(f"F-statistic: {f_statistic}")
print(f"p-value: {p_value}")





import scipy.stats as st
# Calculate average height and serve win rate for each IOC
ioc_stats = atp_combined_df.groupby('winner_ioc').agg({
    'winner_ht': 'mean',
    'w_1stWon': 'sum',
    'w_svpt': 'sum'
})
ioc_stats['serve_win_rate'] = ioc_stats['w_1stWon'] / ioc_stats['w_svpt']

# Calculate Pearson correlation
correlation, p_value = stats.pearsonr(ioc_stats['winner_ht'], ioc_stats['serve_win_rate'])

print("Pearson correlation between average height and serve win rate by country:")
print(f"Correlation coefficient: {correlation}")
print(f"p-value: {p_value}")





from scipy import stats

# Test hypothesis that higher-ranked players have a higher serve percentage
high_ranked = atp_combined_df[atp_combined_df['winner_rank'] <= 10]['w_serve_pct']
high_ranked = atp_combined_df[atp_combined_df['winner_rank'] <= 10]['w_serve_pct']
low_ranked = atp_combined_df[atp_combined_df['winner_rank'] > 10]['w_serve_pct']
t_stat, p_value = stats.ttest_ind(high_ranked, low_ranked)
print('T-statistic:', t_stat)
print('P-value:', p_value)


# Import necessary libraries
import pandas as pd
from scipy import stats
import statsmodels.api as sm

# Hypothesis 1: Higher-ranked players have a higher serve percentage
high_ranked = atp_combined_df[atp_combined_df['winner_rank'] <= 10]['w_serve_pct']
low_ranked = atp_combined_df[atp_combined_df['winner_rank'] > 10]['w_serve_pct']
t_stat, p_value = stats.ttest_ind(high_ranked, low_ranked)
print('Hypothesis 1 - T-statistic:', t_stat)
print('Hypothesis 1 - P-value:', p_value)

# Hypothesis 2: Players with a higher serve percentage are more likely to win matches
df['match_success'] = 1  # Assuming all winners are successful
logit_model = sm.Logit(df['match_success'], atp_combined_df['w_serve_pct'])
result = logit_model.fit()
print('Hypothesis 2 - Logistic Regression Summary:')
print(result.summary())

# Hypothesis 3: The surface of the court affects the serve percentage
anova_result = stats.f_oneway(atp_combined_df[atp_combined_df['surface'] == 'Hard']['w_serve_pct'],
                              atp_combined_df[atp_combined_df['surface'] == 'Clay']['w_serve_pct'],
                              atp_combined_df[atp_combined_df['surface'] == 'Grass']['w_serve_pct'])
print('Hypothesis 3 - ANOVA F-statistic:', anova_result.statistic)
print('Hypothesis 3 - P-value:', anova_result.pvalue)







































