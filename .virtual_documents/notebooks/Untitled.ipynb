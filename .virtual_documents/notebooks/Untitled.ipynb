import pandas as pd
import streamlit as st
import plotly.express as px
import folium
from streamlit_folium import folium_static
import plotly.graph_objects as go
from datetime import datetime

# Configuration de la page Streamlit
st.set_page_config(page_title="Tennis Stats Visualization", layout="wide")

# Titre de l'application
st.title("Tennis Statistics Visualization")
st.markdown("*by @Manuel*")

# Création d'un exemple de données
@st.cache_data
def create_sample_data():
    players_data = {
        'Player': ['Alexander Zverev', 'Casper Ruud', 'Jannik Sinner', 'Carlos Alcaraz', 
                    'Alex De Minaur', 'Taylor Fritz', 'Daniil Medvedev'],
        'Wins': [67, 42, 42, 38, 34, 36, 35],
        'Lost': [14, 18, 16, 22, 12, 14, 11],
        'PJ': [81, 55, 44, 60, 48, 50, 46],
        'ioc': ['Alemania', 'Noruega', 'Italia', 'España', 
                         'Australia', 'Estados Unidos', 'Rusia'],
        'País': ['Alemania', 'Noruega', 'Italia', 'España', 
                 'Australia', 'Estados Unidos', 'Rusia'],
        'Lat': [51.1657, 60.4720, 41.8719, 40.4168, 
                -25.2744, 37.0902, 61.5240],
        'Lon': [10.4515, 8.4689, 12.5674, -3.7038, 
                133.7751, -95.7129, 105.3188]
    }
    return pd.DataFrame(players_data)

# Chargement des données
df = create_sample_data()

# Création des colonnes pour les filtres
col1, col2, col3, col4, col5 = st.columns(5)

with col1:
    superficie = st.selectbox("Superficie", ['Tout'] + list(df['Superficie'].unique() if 'Superficie' in df.columns else []))
with col2:
    jugador = st.selectbox("Jugador", ['Tout'] + list(df['Jugador'].unique()))
with col3:
    nacionalidad = st.selectbox("Nacionalidad", ['Tout'] + list(df['Nacionalidad'].unique()))
with col4:
    nivel = st.selectbox("Nivel", ['Tout'] + list(df['Nivel'].unique() if 'Nivel' in df.columns else []))
with col5:
    torneo = st.selectbox("Torneo", ['Tout'] + list(df['Torneo'].unique() if 'Torneo' in df.columns else []))

# Sélecteur de dates
col6, col7 = st.columns(2)
with col6:
    fecha_inicio = st.date_input("Fecha inicio", datetime(2024, 1, 1))
with col7:
    fecha_fin = st.date_input("Fecha fin", datetime(2024, 8, 4))

# Colonnes pour Entry, MD o Q, et Ronda
col8, col9, col10 = st.columns(3)
with col8:
    entry = st.selectbox("Entry", ['Tout'] + list(df['Entry'].unique() if 'Entry' in df.columns else []))
with col9:
    md_q = st.selectbox("MD o Q", ['Tout'] + list(df['MD_Q'].unique() if 'MD_Q' in df.columns else []))
with col10:
    ronda = st.selectbox("Ronda", ['Tout'] + list(df['Ronda'].unique() if 'Ronda' in df.columns else []))

# Création des visualisations
col_table, col_charts = st.columns([1, 2])

with col_table:
    st.subheader("Estadísticas de jugadores")
    st.dataframe(df[['Jugador', 'Ganadas', 'Perdidas', 'PJ']].style.format({
        'Ganadas': '{:.0f}',
        'Perdidas': '{:.0f}',
        'PJ': '{:.0f}'
    }))

with col_charts:
    # Visualisation de la carte
    st.subheader("Partidos según la nacionalidad de los jugadores")
    m = folium.Map(location=[20, 0], zoom_start=2)
    for idx, row in df.iterrows():
        folium.Circle(
            location=[row['Lat'], row['Lon']],
            radius=50000,
            popup=f"{row['Nacionalidad']}: {row['PJ']} partidos",
            color='blue',
            fill=True
        ).add_to(m)
    folium_static(m)

# Graphique en secteurs pour les surfaces
st.subheader("Partidos por superficie")
fig_surface = go.Figure(data=[go.Pie(
    labels=['Clay', 'Hard'],
    values=[1145, 1328],
    hole=.3
)])
st.plotly_chart(fig_surface)

# Graphique en barres pour les sets
st.subheader("Partidos por sets")
sets_data = {'Sets': [2, 3, 4, 5], 'Cantidad': [1800, 1000, 138, 102]}
fig_sets = px.bar(sets_data, x='Sets', y='Cantidad')
st.plotly_chart(fig_sets)

# Code pour le graphique "Partidos por estado"
estados = ['Finished', 'Retired', 'Walkover', 'Awarded']
valores = [2900, 90, 45, 2]

fig_estados = go.Figure(go.Bar(
    x=valores,
    y=estados,
    orientation='h',
))
fig_estados.update_layout(title="Partidos por estado")
st.plotly_chart(fig_estados)

