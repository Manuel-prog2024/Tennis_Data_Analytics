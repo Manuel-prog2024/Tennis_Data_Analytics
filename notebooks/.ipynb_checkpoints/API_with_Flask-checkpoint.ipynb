{
 "cells": [
  {
   "cell_type": "code",
   "execution_count": null,
   "id": "aef6f3ec-415d-40a0-8ee2-a76aadee2080",
   "metadata": {},
   "outputs": [],
   "source": [
    "from flask import Flask, jsonify\n",
    "import pandas as pd\n",
    "\n",
    "app = Flask(__name__)\n",
    "\n",
    "# Load the CSV data\n",
    "df = pd.read_csv('atp_matches_combined_cleaned.csv')\n",
    "\n",
    "@app.route('/top_players', methods=['GET'])\n",
    "def top_players():\n",
    "    top_10 = df.groupby('winner_name').size().sort_values(ascending=False).head(10)\n",
    "    return jsonify(top_10.to_dict())\n",
    "\n",
    "@app.route('/surface_stats', methods=['GET'])\n",
    "def surface_stats():\n",
    "    surface_stats = df.groupby('surface').agg({\n",
    "        'minutes': 'mean',\n",
    "        'w_ace': 'mean',\n",
    "        'l_ace': 'mean'\n",
    "    }).round(2)\n",
    "    return jsonify(surface_stats.to_dict())\n",
    "\n",
    "@app.route('/player_stats/<player_name>', methods=['GET'])\n",
    "def player_stats(player_name):\n",
    "    player_data = df[df['winner_name'] == player_name].agg({\n",
    "        'w_ace': 'mean',\n",
    "        'w_df': 'mean',\n",
    "        'w_svpt': 'mean',\n",
    "        'w_1stWon': 'mean',\n",
    "        'w_2ndWon': 'mean'\n",
    "    }).round(2)\n",
    "    return jsonify(player_data.to_dict())\n",
    "\n",
    "if __name__ == '__main__':\n",
    "    app.run(debug=True)"
   ]
  }
 ],
 "metadata": {
  "kernelspec": {
   "display_name": "fp_venv",
   "language": "python",
   "name": "fp_venv"
  },
  "language_info": {
   "codemirror_mode": {
    "name": "ipython",
    "version": 3
   },
   "file_extension": ".py",
   "mimetype": "text/x-python",
   "name": "python",
   "nbconvert_exporter": "python",
   "pygments_lexer": "ipython3",
   "version": "3.11.7"
  }
 },
 "nbformat": 4,
 "nbformat_minor": 5
}
