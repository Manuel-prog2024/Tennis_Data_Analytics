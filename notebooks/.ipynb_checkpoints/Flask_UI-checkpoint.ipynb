{
 "cells": [
  {
   "cell_type": "code",
   "execution_count": 7,
   "id": "ed01f9d0-169d-4be4-80f0-0a347a9d693d",
   "metadata": {},
   "outputs": [
    {
     "ename": "ModuleNotFoundError",
     "evalue": "No module named 'dash'",
     "output_type": "error",
     "traceback": [
      "\u001b[1;31m---------------------------------------------------------------------------\u001b[0m",
      "\u001b[1;31mModuleNotFoundError\u001b[0m                       Traceback (most recent call last)",
      "Cell \u001b[1;32mIn[7], line 3\u001b[0m\n\u001b[0;32m      1\u001b[0m \u001b[38;5;28;01mimport\u001b[39;00m \u001b[38;5;21;01mpandas\u001b[39;00m \u001b[38;5;28;01mas\u001b[39;00m \u001b[38;5;21;01mpd\u001b[39;00m\n\u001b[0;32m      2\u001b[0m \u001b[38;5;66;03m#import dash\u001b[39;00m\n\u001b[1;32m----> 3\u001b[0m \u001b[38;5;28;01mfrom\u001b[39;00m \u001b[38;5;21;01mdash\u001b[39;00m \u001b[38;5;28;01mimport\u001b[39;00m dcc, html\n\u001b[0;32m      4\u001b[0m \u001b[38;5;28;01mfrom\u001b[39;00m \u001b[38;5;21;01mdash\u001b[39;00m\u001b[38;5;21;01m.\u001b[39;00m\u001b[38;5;21;01mdependencies\u001b[39;00m \u001b[38;5;28;01mimport\u001b[39;00m Input, Output\n\u001b[0;32m      5\u001b[0m \u001b[38;5;28;01mimport\u001b[39;00m \u001b[38;5;21;01mplotly\u001b[39;00m\u001b[38;5;21;01m.\u001b[39;00m\u001b[38;5;21;01mexpress\u001b[39;00m \u001b[38;5;28;01mas\u001b[39;00m \u001b[38;5;21;01mpx\u001b[39;00m\n",
      "\u001b[1;31mModuleNotFoundError\u001b[0m: No module named 'dash'"
     ]
    }
   ],
   "source": [
    "import pandas as pd\n",
    "#import dash\n",
    "from dash import dcc, html\n",
    "from dash.dependencies import Input, Output\n",
    "import plotly.express as px\n",
    "\n",
    "# Charger les données\n",
    "df = pd.read_csv('atp_matches_combined_cleaned.csv')\n",
    "\n",
    "# Initialiser l'application Dash\n",
    "app = dash.Dash(__name__)\n",
    "\n",
    "# Définir la mise en page de l'application\n",
    "app.layout = html.Div([\n",
    "    html.H1(\"Visualisation des données de tennis ATP\"),\n",
    "    \n",
    "    html.Div([\n",
    "        html.Div([\n",
    "            html.Label(\"Type de graphique\"),\n",
    "            dcc.Dropdown(\n",
    "                id='graph-type',\n",
    "                options=[\n",
    "                    {'label': 'Nuage de points', 'value': 'scatter'},\n",
    "                    {'label': 'Boîte à moustaches', 'value': 'box'},\n",
    "                    {'label': 'Histogramme', 'value': 'histogram'}\n",
    "                ],\n",
    "                value='scatter'\n",
    "            )\n",
    "        ], style={'width': '30%', 'display': 'inline-block'}),\n",
    "        \n",
    "        html.Div([\n",
    "            html.Label(\"Variable X\"),\n",
    "            dcc.Dropdown(\n",
    "                id='x-variable',\n",
    "                options=[{'label': col, 'value': col} for col in df.columns],\n",
    "                value='winner_age'\n",
    "            )\n",
    "        ], style={'width': '30%', 'display': 'inline-block'}),\n",
    "        \n",
    "        html.Div([\n",
    "            html.Label(\"Variable Y\"),\n",
    "            dcc.Dropdown(\n",
    "                id='y-variable',\n",
    "                options=[{'label': col, 'value': col} for col in df.columns],\n",
    "                value='loser_age'\n",
    "            )\n",
    "        ], style={'width': '30%', 'display': 'inline-block'})\n",
    "    ]),\n",
    "    \n",
    "    dcc.Graph(id='tennis-graph')\n",
    "])\n",
    "\n",
    "# Définir le callback pour mettre à jour le graphique\n",
    "@app.callback(\n",
    "    Output('tennis-graph', 'figure'),\n",
    "    [Input('graph-type', 'value'),\n",
    "     Input('x-variable', 'value'),\n",
    "     Input('y-variable', 'value')]\n",
    ")\n",
    "def update_graph(graph_type, x_variable, y_variable):\n",
    "    if graph_type == 'scatter':\n",
    "        fig = px.scatter(df, x=x_variable, y=y_variable, title=f\"{x_variable} vs {y_variable}\")\n",
    "    elif graph_type == 'box':\n",
    "        fig = px.box(df, x=x_variable, y=y_variable, title=f\"Distribution de {y_variable} par {x_variable}\")\n",
    "    elif graph_type == 'histogram':\n",
    "        fig = px.histogram(df, x=x_variable, title=f\"Distribution de {x_variable}\")\n",
    "    \n",
    "    return fig\n",
    "\n",
    "# Lancer l'application\n",
    "if __name__ == '__main__':\n",
    "    app.run_server(debug=True)\n"
   ]
  },
  {
   "cell_type": "code",
   "execution_count": null,
   "id": "d2798872-ebd8-4d2f-8fd9-ba7d300d417e",
   "metadata": {},
   "outputs": [],
   "source": []
  }
 ],
 "metadata": {
  "kernelspec": {
   "display_name": "fp_venv",
   "language": "python",
   "name": "fp_venv"
  },
  "language_info": {
   "codemirror_mode": {
    "name": "ipython",
    "version": 3
   },
   "file_extension": ".py",
   "mimetype": "text/x-python",
   "name": "python",
   "nbconvert_exporter": "python",
   "pygments_lexer": "ipython3",
   "version": "3.11.7"
  }
 },
 "nbformat": 4,
 "nbformat_minor": 5
}
