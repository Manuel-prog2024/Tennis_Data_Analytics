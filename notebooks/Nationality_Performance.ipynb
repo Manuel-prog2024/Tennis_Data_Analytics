{
 "cells": [
  {
   "cell_type": "code",
   "execution_count": 5,
   "id": "a9aa4217-b5c9-4a94-a74e-3bf6e02a1f1f",
   "metadata": {},
   "outputs": [],
   "source": [
    "import sys                             # system module \n",
    "import pandas as pd                    # data package\n",
    "import matplotlib.pyplot as plt        # graphics module  \n",
    "import datetime as dt                  # date and time module\n",
    "import numpy as np                     # foundation for pandas "
   ]
  },
  {
   "cell_type": "markdown",
   "id": "860c8826-4bb6-4841-a3c0-dc6df070c7c6",
   "metadata": {},
   "source": [
    "# Datasets "
   ]
  },
  {
   "cell_type": "code",
   "execution_count": 7,
   "id": "ec607ced-7b6a-471d-aeae-c5484f51451d",
   "metadata": {},
   "outputs": [],
   "source": [
    "atp_matches2022 = 'https://raw.githubusercontent.com/JeffSackmann/tennis_atp/master/atp_matches_2022.csv' # 2022 match data\n",
    "atp_matches2023 = 'https://raw.githubusercontent.com/JeffSackmann/tennis_atp/master/atp_matches_2023.csv' # 2023 match data\n",
    "atp_matches2024 = 'https://raw.githubusercontent.com/JeffSackmann/tennis_atp/master/atp_matches_2024.csv' # 2024 match data\n",
    "# convert each csv file into data frames\n",
    "df_matches2022 = pd.read_csv(atp_matches2022)\n",
    "df_matches2023 = pd.read_csv(atp_matches2023)\n",
    "df_matches2024 = pd.read_csv(atp_matches2024)\n"
   ]
  },
  {
   "cell_type": "code",
   "execution_count": 7,
   "id": "3a69290a-2f72-4600-b998-b34c1298a3c0",
   "metadata": {},
   "outputs": [
    {
     "data": {
      "text/plain": [
       "(35031, 4)"
      ]
     },
     "execution_count": 7,
     "metadata": {},
     "output_type": "execute_result"
    }
   ],
   "source": [
    "atp_rankings_current = 'https://raw.githubusercontent.com/JeffSackmann/tennis_atp/master/atp_rankings_current.csv'\n",
    "rankings_current_df = pd.read_csv(atp_rankings_current)\n",
    "\n",
    "rankings_current_df.shape"
   ]
  },
  {
   "cell_type": "code",
   "execution_count": 9,
   "id": "4be468f7-9eee-4727-b564-e83dab2a7ae6",
   "metadata": {},
   "outputs": [
    {
     "data": {
      "text/plain": [
       "ranking_date    int64\n",
       "rank            int64\n",
       "player          int64\n",
       "points          int64\n",
       "dtype: object"
      ]
     },
     "execution_count": 9,
     "metadata": {},
     "output_type": "execute_result"
    }
   ],
   "source": [
    "rankings_current_df.dtypes"
   ]
  },
  {
   "cell_type": "code",
   "execution_count": 11,
   "id": "2f043a6d-3a29-4b8a-946a-7af927dbf537",
   "metadata": {
    "scrolled": true
   },
   "outputs": [
    {
     "name": "stdout",
     "output_type": "stream",
     "text": [
      "<class 'pandas.core.frame.DataFrame'>\n",
      "RangeIndex: 35031 entries, 0 to 35030\n",
      "Data columns (total 4 columns):\n",
      " #   Column        Non-Null Count  Dtype\n",
      "---  ------        --------------  -----\n",
      " 0   ranking_date  35031 non-null  int64\n",
      " 1   rank          35031 non-null  int64\n",
      " 2   player        35031 non-null  int64\n",
      " 3   points        35031 non-null  int64\n",
      "dtypes: int64(4)\n",
      "memory usage: 1.1 MB\n"
     ]
    }
   ],
   "source": [
    "rankings_current_df.info()#No null values"
   ]
  },
  {
   "cell_type": "code",
   "execution_count": 75,
   "id": "9ba9bef7-5d7d-48a2-a0f1-0b5db0f9e711",
   "metadata": {},
   "outputs": [
    {
     "name": "stdout",
     "output_type": "stream",
     "text": [
      "ranking_date    datetime64[ns]\n",
      "rank                     int64\n",
      "player                   int64\n",
      "points                   int64\n",
      "dtype: object\n"
     ]
    }
   ],
   "source": [
    "rankings_current_df['ranking_date'] = pd.to_datetime(rankings_current_df['ranking_date'], format='%Y%m%d')\n",
    "print(rankings_current_df.dtypes)"
   ]
  },
  {
   "cell_type": "code",
   "execution_count": 77,
   "id": "06fc97f6-c556-4e15-b7a5-2f3fa992138b",
   "metadata": {},
   "outputs": [
    {
     "data": {
      "text/plain": [
       "0       2024-01-01\n",
       "1       2024-01-01\n",
       "2       2024-01-01\n",
       "3       2024-01-01\n",
       "4       2024-01-01\n",
       "           ...    \n",
       "35026   2024-05-27\n",
       "35027   2024-05-27\n",
       "35028   2024-05-27\n",
       "35029   2024-05-27\n",
       "35030   2024-05-27\n",
       "Name: ranking_date, Length: 35031, dtype: datetime64[ns]"
      ]
     },
     "execution_count": 77,
     "metadata": {},
     "output_type": "execute_result"
    }
   ],
   "source": [
    "rankings_current_df['ranking_date'] "
   ]
  },
  {
   "cell_type": "code",
   "execution_count": 79,
   "id": "1742196d-a2e8-43f6-96ef-bd4f5f4c797f",
   "metadata": {},
   "outputs": [
    {
     "name": "stdout",
     "output_type": "stream",
     "text": [
      "Number of duplicate rows: 0\n",
      "Number of duplicate rows after handling: 0\n"
     ]
    }
   ],
   "source": [
    "# Identify duplicate rows\n",
    "print(\"Number of duplicate rows:\", rankings_current_df.duplicated().sum())\n",
    "\n",
    "# Drop duplicates and keep only the first occurrence\n",
    "# Reset the index to ensure consistency after combining data\n",
    "rankings_current_df_without_duplicates = rankings_current_df.drop_duplicates(keep='first').reset_index(drop=True)\n",
    "\n",
    "print(\"Number of duplicate rows after handling:\", rankings_current_df.duplicated().sum())"
   ]
  },
  {
   "cell_type": "code",
   "execution_count": 81,
   "id": "77edd7f4-bf4c-4874-aeb7-ad3cd4640470",
   "metadata": {},
   "outputs": [],
   "source": [
    "rankings_current_df.to_csv('atp_rankings_current_cleaned.csv',index=False) "
   ]
  },
  {
   "cell_type": "code",
   "execution_count": null,
   "id": "a5031a00-7eeb-4369-b53d-6e40230d3bfd",
   "metadata": {},
   "outputs": [],
   "source": []
  },
  {
   "cell_type": "code",
   "execution_count": 5,
   "id": "d6e47143-2bcf-4a22-a757-96d2b634da6e",
   "metadata": {},
   "outputs": [],
   "source": [
    "#atp_players = 'https://github.com/JeffSackmann/tennis_atp/blob/master/atp_players.csv'\n",
    "atp_players = 'https://raw.githubusercontent.com/JeffSackmann/tennis_atp/master/atp_players.csv'\n",
    "players_df = pd.read_csv(atp_players)"
   ]
  },
  {
   "cell_type": "code",
   "execution_count": 7,
   "id": "8f8be154-5c90-42a4-8b69-ad2cfb9f1397",
   "metadata": {},
   "outputs": [
    {
     "data": {
      "text/plain": [
       "(65019, 8)"
      ]
     },
     "execution_count": 7,
     "metadata": {},
     "output_type": "execute_result"
    }
   ],
   "source": [
    "players_df.shape"
   ]
  },
  {
   "cell_type": "code",
   "execution_count": 9,
   "id": "e7973fa1-57e8-4136-9c6c-8c4c77891139",
   "metadata": {},
   "outputs": [
    {
     "data": {
      "text/plain": [
       "player_id        int64\n",
       "name_first      object\n",
       "name_last       object\n",
       "hand            object\n",
       "dob            float64\n",
       "ioc             object\n",
       "height         float64\n",
       "wikidata_id     object\n",
       "dtype: object"
      ]
     },
     "execution_count": 9,
     "metadata": {},
     "output_type": "execute_result"
    }
   ],
   "source": [
    "players_df.dtypes"
   ]
  },
  {
   "cell_type": "code",
   "execution_count": 11,
   "id": "3f90b3fb-ad20-448e-92a0-e6cf9447ad2e",
   "metadata": {},
   "outputs": [
    {
     "name": "stdout",
     "output_type": "stream",
     "text": [
      "<class 'pandas.core.frame.DataFrame'>\n",
      "RangeIndex: 65019 entries, 0 to 65018\n",
      "Data columns (total 8 columns):\n",
      " #   Column       Non-Null Count  Dtype  \n",
      "---  ------       --------------  -----  \n",
      " 0   player_id    65019 non-null  int64  \n",
      " 1   name_first   64134 non-null  object \n",
      " 2   name_last    64971 non-null  object \n",
      " 3   hand         65002 non-null  object \n",
      " 4   dob          46447 non-null  float64\n",
      " 5   ioc          64343 non-null  object \n",
      " 6   height       2819 non-null   float64\n",
      " 7   wikidata_id  4894 non-null   object \n",
      "dtypes: float64(2), int64(1), object(5)\n",
      "memory usage: 4.0+ MB\n"
     ]
    }
   ],
   "source": [
    "players_df.info()"
   ]
  },
  {
   "cell_type": "code",
   "execution_count": 14,
   "id": "01e68cd1-fc9b-455b-a18e-e809d3b7dd41",
   "metadata": {},
   "outputs": [
    {
     "name": "stdout",
     "output_type": "stream",
     "text": [
      "datetime64[ns]\n"
     ]
    }
   ],
   "source": [
    "import pandas as pd\n",
    "# data type Conversion into date \n",
    "players_df['dob'] = pd.to_datetime(players_df['dob'], format='%Y%m%d', errors='coerce')\n",
    "print(players_df['dob'].dtypes)"
   ]
  },
  {
   "cell_type": "code",
   "execution_count": 16,
   "id": "fa440eaf-da00-4537-b153-21c2b02e9d0c",
   "metadata": {},
   "outputs": [
    {
     "data": {
      "text/plain": [
       "player_id               int64\n",
       "name_first             object\n",
       "name_last              object\n",
       "hand                   object\n",
       "dob            datetime64[ns]\n",
       "ioc                    object\n",
       "height                float64\n",
       "wikidata_id            object\n",
       "dtype: object"
      ]
     },
     "execution_count": 16,
     "metadata": {},
     "output_type": "execute_result"
    }
   ],
   "source": [
    "players_df.dtypes"
   ]
  },
  {
   "cell_type": "code",
   "execution_count": 19,
   "id": "3833f4e9-c3b4-47b9-91b6-17398241be01",
   "metadata": {},
   "outputs": [
    {
     "name": "stdout",
     "output_type": "stream",
     "text": [
      "       player_id  name_first      name_last hand        dob  ioc  height  \\\n",
      "0         100001     Gardnar         Mulloy    R 1913-11-22  USA   185.0   \n",
      "1         100002      Pancho         Segura    R 1921-06-20  ECU   168.0   \n",
      "2         100003       Frank        Sedgman    R 1927-10-02  AUS   180.0   \n",
      "3         100004    Giuseppe          Merlo    R 1927-10-11  ITA     NaN   \n",
      "4         100005     Richard       Gonzalez    R 1928-05-09  USA   188.0   \n",
      "...          ...         ...            ...  ...        ...  ...     ...   \n",
      "65014     212913      Pietro          Ricci    U        NaT  ITA     NaN   \n",
      "65015     212914       Corey          Craig    U        NaT  USA     NaN   \n",
      "65016     212915  Aleksandar     Ljubojevic    U        NaT  SRB     NaN   \n",
      "65017     212916       Marko  Milosavljevic    U        NaT  SRB     NaN   \n",
      "65018     212917      Stefan       Skobelev    U        NaT  SRB     NaN   \n",
      "\n",
      "      wikidata_id              name_full  \n",
      "0          Q54544         Gardnar Mulloy  \n",
      "1          Q54581          Pancho Segura  \n",
      "2         Q962049          Frank Sedgman  \n",
      "3        Q1258752         Giuseppe Merlo  \n",
      "4          Q53554       Richard Gonzalez  \n",
      "...           ...                    ...  \n",
      "65014         NaN           Pietro Ricci  \n",
      "65015         NaN            Corey Craig  \n",
      "65016         NaN  Aleksandar Ljubojevic  \n",
      "65017         NaN    Marko Milosavljevic  \n",
      "65018         NaN        Stefan Skobelev  \n",
      "\n",
      "[65019 rows x 9 columns]\n"
     ]
    }
   ],
   "source": [
    "# Create a new column 'name_full' by concatenating 'name_first' and 'name_last'\n",
    "players_df['name_full'] = players_df['name_first'] + ' ' + players_df['name_last']\n",
    "\n",
    "# Print the dataframe to check the new column\n",
    "print(players_df)"
   ]
  },
  {
   "cell_type": "code",
   "execution_count": 21,
   "id": "fd1a23e3-5975-4920-8aec-5d9ac1c4d1e5",
   "metadata": {},
   "outputs": [],
   "source": [
    "players_df.to_csv('atp_players_concatenated.csv',index=False) "
   ]
  },
  {
   "cell_type": "code",
   "execution_count": 24,
   "id": "7b659752-5ffb-4ddf-937e-66216973701f",
   "metadata": {},
   "outputs": [
    {
     "name": "stdout",
     "output_type": "stream",
     "text": [
      "       player_id              name_full hand        dob  ioc  height  \\\n",
      "0         100001         Gardnar Mulloy    R 1913-11-22  USA   185.0   \n",
      "1         100002          Pancho Segura    R 1921-06-20  ECU   168.0   \n",
      "2         100003          Frank Sedgman    R 1927-10-02  AUS   180.0   \n",
      "3         100004         Giuseppe Merlo    R 1927-10-11  ITA     NaN   \n",
      "4         100005       Richard Gonzalez    R 1928-05-09  USA   188.0   \n",
      "...          ...                    ...  ...        ...  ...     ...   \n",
      "65014     212913           Pietro Ricci    U        NaT  ITA     NaN   \n",
      "65015     212914            Corey Craig    U        NaT  USA     NaN   \n",
      "65016     212915  Aleksandar Ljubojevic    U        NaT  SRB     NaN   \n",
      "65017     212916    Marko Milosavljevic    U        NaT  SRB     NaN   \n",
      "65018     212917        Stefan Skobelev    U        NaT  SRB     NaN   \n",
      "\n",
      "      wikidata_id  \n",
      "0          Q54544  \n",
      "1          Q54581  \n",
      "2         Q962049  \n",
      "3        Q1258752  \n",
      "4          Q53554  \n",
      "...           ...  \n",
      "65014         NaN  \n",
      "65015         NaN  \n",
      "65016         NaN  \n",
      "65017         NaN  \n",
      "65018         NaN  \n",
      "\n",
      "[65019 rows x 7 columns]\n"
     ]
    }
   ],
   "source": [
    "# Drop the 'name_first' and 'name_last' columns\n",
    "players_df = players_df.drop(['name_first', 'name_last'], axis=1)\n",
    "\n",
    "# Reorder the columns so that 'name_full' is after 'player_id'\n",
    "cols = list(players_df.columns)\n",
    "cols.insert(cols.index('player_id') + 1, cols.pop(cols.index('name_full')))\n",
    "players_df = players_df.loc[:, cols]\n",
    "\n",
    "# Print the dataframe to check the changes\n",
    "print(players_df)"
   ]
  },
  {
   "cell_type": "code",
   "execution_count": 30,
   "id": "e60845e3-53fd-41e0-a13c-f0c652b00c91",
   "metadata": {},
   "outputs": [
    {
     "name": "stdout",
     "output_type": "stream",
     "text": [
      "       player_id         name_full hand        dob  ioc  height wikidata_id\n",
      "0         100001    Gardnar Mulloy    R 1913-11-22  USA   185.0      Q54544\n",
      "1         100002     Pancho Segura    R 1921-06-20  ECU   168.0      Q54581\n",
      "2         100003     Frank Sedgman    R 1927-10-02  AUS   180.0     Q962049\n",
      "4         100005  Richard Gonzalez    R 1928-05-09  USA   188.0      Q53554\n",
      "5         100006      Grant Golden    R 1929-08-21  USA   175.0    Q3115390\n",
      "...          ...               ...  ...        ...  ...     ...         ...\n",
      "62006     209903    Lukas Neumayer    R 2002-09-06  AUT   183.0  Q107641373\n",
      "62019     209916        Marko Topo    R 2003-09-13  SRB   188.0  Q106949539\n",
      "62021     209918         Hanwen Li    R 2002-08-22  CHN   180.0  Q106860558\n",
      "62053     209950       Arthur Fils    R 2004-06-12  FRA   185.0  Q107207693\n",
      "62116     210013    Martin Damm Sr    R 1972-08-01  CZE   188.0     Q381173\n",
      "\n",
      "[2438 rows x 7 columns]\n"
     ]
    }
   ],
   "source": [
    "# Drop columns with null values\n",
    "players_df = players_df.dropna(subset=['name_full', 'dob', 'height', 'hand', 'ioc', 'wikidata_id'])\n",
    "# Print the dataframe to check the changes\n",
    "print(players_df)"
   ]
  },
  {
   "cell_type": "code",
   "execution_count": 32,
   "id": "369f6bf9-c0c6-4a95-9711-62915e6a7224",
   "metadata": {},
   "outputs": [],
   "source": [
    "players_df.to_csv('atp_players_concat_cleaned.csv',index=False) "
   ]
  },
  {
   "cell_type": "code",
   "execution_count": null,
   "id": "ecefb398-1852-4de3-9280-1b24a994eba2",
   "metadata": {},
   "outputs": [],
   "source": []
  },
  {
   "cell_type": "markdown",
   "id": "19a12361-f412-481e-b4c7-ae2d6d14ff35",
   "metadata": {},
   "source": [
    "# This final dataframe combines 2022, 2023 and 2024."
   ]
  },
  {
   "cell_type": "code",
   "execution_count": 9,
   "id": "cc60323d-8b63-4982-a97f-5b491caf4467",
   "metadata": {},
   "outputs": [
    {
     "data": {
      "text/html": [
       "<div>\n",
       "<style scoped>\n",
       "    .dataframe tbody tr th:only-of-type {\n",
       "        vertical-align: middle;\n",
       "    }\n",
       "\n",
       "    .dataframe tbody tr th {\n",
       "        vertical-align: top;\n",
       "    }\n",
       "\n",
       "    .dataframe thead th {\n",
       "        text-align: right;\n",
       "    }\n",
       "</style>\n",
       "<table border=\"1\" class=\"dataframe\">\n",
       "  <thead>\n",
       "    <tr style=\"text-align: right;\">\n",
       "      <th></th>\n",
       "      <th>tourney_id</th>\n",
       "      <th>tourney_name</th>\n",
       "      <th>surface</th>\n",
       "      <th>draw_size</th>\n",
       "      <th>tourney_level</th>\n",
       "      <th>tourney_date</th>\n",
       "      <th>match_num</th>\n",
       "      <th>winner_id</th>\n",
       "      <th>winner_seed</th>\n",
       "      <th>winner_entry</th>\n",
       "      <th>...</th>\n",
       "      <th>l_1stIn</th>\n",
       "      <th>l_1stWon</th>\n",
       "      <th>l_2ndWon</th>\n",
       "      <th>l_SvGms</th>\n",
       "      <th>l_bpSaved</th>\n",
       "      <th>l_bpFaced</th>\n",
       "      <th>winner_rank</th>\n",
       "      <th>winner_rank_points</th>\n",
       "      <th>loser_rank</th>\n",
       "      <th>loser_rank_points</th>\n",
       "    </tr>\n",
       "  </thead>\n",
       "  <tbody>\n",
       "    <tr>\n",
       "      <th>0</th>\n",
       "      <td>2022-8888</td>\n",
       "      <td>Atp Cup</td>\n",
       "      <td>Hard</td>\n",
       "      <td>16</td>\n",
       "      <td>A</td>\n",
       "      <td>20220103</td>\n",
       "      <td>300</td>\n",
       "      <td>200000</td>\n",
       "      <td>NaN</td>\n",
       "      <td>NaN</td>\n",
       "      <td>...</td>\n",
       "      <td>50.0</td>\n",
       "      <td>32.0</td>\n",
       "      <td>7.0</td>\n",
       "      <td>10.0</td>\n",
       "      <td>3.0</td>\n",
       "      <td>5.0</td>\n",
       "      <td>11.0</td>\n",
       "      <td>3308.0</td>\n",
       "      <td>19.0</td>\n",
       "      <td>2260.0</td>\n",
       "    </tr>\n",
       "    <tr>\n",
       "      <th>1</th>\n",
       "      <td>2022-8888</td>\n",
       "      <td>Atp Cup</td>\n",
       "      <td>Hard</td>\n",
       "      <td>16</td>\n",
       "      <td>A</td>\n",
       "      <td>20220103</td>\n",
       "      <td>299</td>\n",
       "      <td>133430</td>\n",
       "      <td>NaN</td>\n",
       "      <td>NaN</td>\n",
       "      <td>...</td>\n",
       "      <td>33.0</td>\n",
       "      <td>21.0</td>\n",
       "      <td>8.0</td>\n",
       "      <td>9.0</td>\n",
       "      <td>3.0</td>\n",
       "      <td>6.0</td>\n",
       "      <td>14.0</td>\n",
       "      <td>2475.0</td>\n",
       "      <td>20.0</td>\n",
       "      <td>2230.0</td>\n",
       "    </tr>\n",
       "    <tr>\n",
       "      <th>2</th>\n",
       "      <td>2022-8888</td>\n",
       "      <td>Atp Cup</td>\n",
       "      <td>Hard</td>\n",
       "      <td>16</td>\n",
       "      <td>A</td>\n",
       "      <td>20220103</td>\n",
       "      <td>298</td>\n",
       "      <td>105138</td>\n",
       "      <td>NaN</td>\n",
       "      <td>NaN</td>\n",
       "      <td>...</td>\n",
       "      <td>80.0</td>\n",
       "      <td>62.0</td>\n",
       "      <td>20.0</td>\n",
       "      <td>16.0</td>\n",
       "      <td>6.0</td>\n",
       "      <td>7.0</td>\n",
       "      <td>19.0</td>\n",
       "      <td>2260.0</td>\n",
       "      <td>9.0</td>\n",
       "      <td>3706.0</td>\n",
       "    </tr>\n",
       "    <tr>\n",
       "      <th>3</th>\n",
       "      <td>2022-8888</td>\n",
       "      <td>Atp Cup</td>\n",
       "      <td>Hard</td>\n",
       "      <td>16</td>\n",
       "      <td>A</td>\n",
       "      <td>20220103</td>\n",
       "      <td>297</td>\n",
       "      <td>105807</td>\n",
       "      <td>NaN</td>\n",
       "      <td>NaN</td>\n",
       "      <td>...</td>\n",
       "      <td>27.0</td>\n",
       "      <td>17.0</td>\n",
       "      <td>1.0</td>\n",
       "      <td>7.0</td>\n",
       "      <td>4.0</td>\n",
       "      <td>8.0</td>\n",
       "      <td>20.0</td>\n",
       "      <td>2230.0</td>\n",
       "      <td>860.0</td>\n",
       "      <td>18.0</td>\n",
       "    </tr>\n",
       "    <tr>\n",
       "      <th>4</th>\n",
       "      <td>2022-8888</td>\n",
       "      <td>Atp Cup</td>\n",
       "      <td>Hard</td>\n",
       "      <td>16</td>\n",
       "      <td>A</td>\n",
       "      <td>20220103</td>\n",
       "      <td>296</td>\n",
       "      <td>106421</td>\n",
       "      <td>NaN</td>\n",
       "      <td>NaN</td>\n",
       "      <td>...</td>\n",
       "      <td>35.0</td>\n",
       "      <td>22.0</td>\n",
       "      <td>4.0</td>\n",
       "      <td>8.0</td>\n",
       "      <td>3.0</td>\n",
       "      <td>7.0</td>\n",
       "      <td>2.0</td>\n",
       "      <td>8640.0</td>\n",
       "      <td>11.0</td>\n",
       "      <td>3308.0</td>\n",
       "    </tr>\n",
       "    <tr>\n",
       "      <th>5</th>\n",
       "      <td>2022-8888</td>\n",
       "      <td>Atp Cup</td>\n",
       "      <td>Hard</td>\n",
       "      <td>16</td>\n",
       "      <td>A</td>\n",
       "      <td>20220103</td>\n",
       "      <td>295</td>\n",
       "      <td>133430</td>\n",
       "      <td>NaN</td>\n",
       "      <td>NaN</td>\n",
       "      <td>...</td>\n",
       "      <td>61.0</td>\n",
       "      <td>45.0</td>\n",
       "      <td>21.0</td>\n",
       "      <td>16.0</td>\n",
       "      <td>7.0</td>\n",
       "      <td>9.0</td>\n",
       "      <td>14.0</td>\n",
       "      <td>2475.0</td>\n",
       "      <td>167.0</td>\n",
       "      <td>409.0</td>\n",
       "    </tr>\n",
       "    <tr>\n",
       "      <th>6</th>\n",
       "      <td>2022-8888</td>\n",
       "      <td>Atp Cup</td>\n",
       "      <td>Hard</td>\n",
       "      <td>16</td>\n",
       "      <td>A</td>\n",
       "      <td>20220103</td>\n",
       "      <td>294</td>\n",
       "      <td>134770</td>\n",
       "      <td>NaN</td>\n",
       "      <td>NaN</td>\n",
       "      <td>...</td>\n",
       "      <td>38.0</td>\n",
       "      <td>24.0</td>\n",
       "      <td>9.0</td>\n",
       "      <td>10.0</td>\n",
       "      <td>3.0</td>\n",
       "      <td>7.0</td>\n",
       "      <td>8.0</td>\n",
       "      <td>4160.0</td>\n",
       "      <td>33.0</td>\n",
       "      <td>1591.0</td>\n",
       "    </tr>\n",
       "    <tr>\n",
       "      <th>7</th>\n",
       "      <td>2022-8888</td>\n",
       "      <td>Atp Cup</td>\n",
       "      <td>Hard</td>\n",
       "      <td>16</td>\n",
       "      <td>A</td>\n",
       "      <td>20220103</td>\n",
       "      <td>293</td>\n",
       "      <td>105936</td>\n",
       "      <td>NaN</td>\n",
       "      <td>NaN</td>\n",
       "      <td>...</td>\n",
       "      <td>38.0</td>\n",
       "      <td>27.0</td>\n",
       "      <td>10.0</td>\n",
       "      <td>10.0</td>\n",
       "      <td>7.0</td>\n",
       "      <td>11.0</td>\n",
       "      <td>42.0</td>\n",
       "      <td>1402.0</td>\n",
       "      <td>345.0</td>\n",
       "      <td>137.0</td>\n",
       "    </tr>\n",
       "    <tr>\n",
       "      <th>8</th>\n",
       "      <td>2022-8888</td>\n",
       "      <td>Atp Cup</td>\n",
       "      <td>Hard</td>\n",
       "      <td>16</td>\n",
       "      <td>A</td>\n",
       "      <td>20220103</td>\n",
       "      <td>292</td>\n",
       "      <td>106426</td>\n",
       "      <td>NaN</td>\n",
       "      <td>NaN</td>\n",
       "      <td>...</td>\n",
       "      <td>51.0</td>\n",
       "      <td>29.0</td>\n",
       "      <td>13.0</td>\n",
       "      <td>12.0</td>\n",
       "      <td>8.0</td>\n",
       "      <td>14.0</td>\n",
       "      <td>17.0</td>\n",
       "      <td>2353.0</td>\n",
       "      <td>33.0</td>\n",
       "      <td>1591.0</td>\n",
       "    </tr>\n",
       "    <tr>\n",
       "      <th>9</th>\n",
       "      <td>2022-8888</td>\n",
       "      <td>Atp Cup</td>\n",
       "      <td>Hard</td>\n",
       "      <td>16</td>\n",
       "      <td>A</td>\n",
       "      <td>20220103</td>\n",
       "      <td>291</td>\n",
       "      <td>105936</td>\n",
       "      <td>NaN</td>\n",
       "      <td>NaN</td>\n",
       "      <td>...</td>\n",
       "      <td>65.0</td>\n",
       "      <td>42.0</td>\n",
       "      <td>19.0</td>\n",
       "      <td>16.0</td>\n",
       "      <td>1.0</td>\n",
       "      <td>5.0</td>\n",
       "      <td>42.0</td>\n",
       "      <td>1402.0</td>\n",
       "      <td>139.0</td>\n",
       "      <td>505.0</td>\n",
       "    </tr>\n",
       "  </tbody>\n",
       "</table>\n",
       "<p>10 rows × 49 columns</p>\n",
       "</div>"
      ],
      "text/plain": [
       "  tourney_id tourney_name surface  draw_size tourney_level  tourney_date  \\\n",
       "0  2022-8888      Atp Cup    Hard         16             A      20220103   \n",
       "1  2022-8888      Atp Cup    Hard         16             A      20220103   \n",
       "2  2022-8888      Atp Cup    Hard         16             A      20220103   \n",
       "3  2022-8888      Atp Cup    Hard         16             A      20220103   \n",
       "4  2022-8888      Atp Cup    Hard         16             A      20220103   \n",
       "5  2022-8888      Atp Cup    Hard         16             A      20220103   \n",
       "6  2022-8888      Atp Cup    Hard         16             A      20220103   \n",
       "7  2022-8888      Atp Cup    Hard         16             A      20220103   \n",
       "8  2022-8888      Atp Cup    Hard         16             A      20220103   \n",
       "9  2022-8888      Atp Cup    Hard         16             A      20220103   \n",
       "\n",
       "   match_num  winner_id winner_seed winner_entry  ... l_1stIn l_1stWon  \\\n",
       "0        300     200000         NaN          NaN  ...    50.0     32.0   \n",
       "1        299     133430         NaN          NaN  ...    33.0     21.0   \n",
       "2        298     105138         NaN          NaN  ...    80.0     62.0   \n",
       "3        297     105807         NaN          NaN  ...    27.0     17.0   \n",
       "4        296     106421         NaN          NaN  ...    35.0     22.0   \n",
       "5        295     133430         NaN          NaN  ...    61.0     45.0   \n",
       "6        294     134770         NaN          NaN  ...    38.0     24.0   \n",
       "7        293     105936         NaN          NaN  ...    38.0     27.0   \n",
       "8        292     106426         NaN          NaN  ...    51.0     29.0   \n",
       "9        291     105936         NaN          NaN  ...    65.0     42.0   \n",
       "\n",
       "   l_2ndWon l_SvGms  l_bpSaved  l_bpFaced winner_rank winner_rank_points  \\\n",
       "0       7.0    10.0        3.0        5.0        11.0             3308.0   \n",
       "1       8.0     9.0        3.0        6.0        14.0             2475.0   \n",
       "2      20.0    16.0        6.0        7.0        19.0             2260.0   \n",
       "3       1.0     7.0        4.0        8.0        20.0             2230.0   \n",
       "4       4.0     8.0        3.0        7.0         2.0             8640.0   \n",
       "5      21.0    16.0        7.0        9.0        14.0             2475.0   \n",
       "6       9.0    10.0        3.0        7.0         8.0             4160.0   \n",
       "7      10.0    10.0        7.0       11.0        42.0             1402.0   \n",
       "8      13.0    12.0        8.0       14.0        17.0             2353.0   \n",
       "9      19.0    16.0        1.0        5.0        42.0             1402.0   \n",
       "\n",
       "  loser_rank loser_rank_points  \n",
       "0       19.0            2260.0  \n",
       "1       20.0            2230.0  \n",
       "2        9.0            3706.0  \n",
       "3      860.0              18.0  \n",
       "4       11.0            3308.0  \n",
       "5      167.0             409.0  \n",
       "6       33.0            1591.0  \n",
       "7      345.0             137.0  \n",
       "8       33.0            1591.0  \n",
       "9      139.0             505.0  \n",
       "\n",
       "[10 rows x 49 columns]"
      ]
     },
     "execution_count": 9,
     "metadata": {},
     "output_type": "execute_result"
    }
   ],
   "source": [
    "atp_combined_df = pd.concat([df_matches2022, df_matches2023, df_matches2024], ignore_index=True)\n",
    "atp_combined_df.head(10)"
   ]
  },
  {
   "cell_type": "raw",
   "id": "71744218-1a91-49fe-ab61-9cff98113ade",
   "metadata": {},
   "source": [
    "# Displaying every column from Jeff Sackmann's dataset (the content is the same for each year).\n",
    "# After investigating the meaning of each column in the matches_data_dictionary, I could include only \n",
    "# the columns I need for my analysis."
   ]
  },
  {
   "cell_type": "raw",
   "id": "964b9f12-80c0-4d63-9358-058a813773de",
   "metadata": {},
   "source": [
    "# Identify the number of unique values for each column and determine categorical columns."
   ]
  },
  {
   "cell_type": "markdown",
   "id": "3d246182-113f-4286-89e0-5e09e0496d9b",
   "metadata": {},
   "source": [
    "# How many rows and columns does the combined dataset have ?"
   ]
  },
  {
   "cell_type": "code",
   "execution_count": 11,
   "id": "103026ef-cc31-4157-8cf2-586921b99412",
   "metadata": {},
   "outputs": [
    {
     "data": {
      "text/plain": [
       "(7320, 49)"
      ]
     },
     "execution_count": 11,
     "metadata": {},
     "output_type": "execute_result"
    }
   ],
   "source": [
    "atp_combined_df.shape"
   ]
  },
  {
   "cell_type": "markdown",
   "id": "c861914f-930b-4e96-867a-7aa01832a1f0",
   "metadata": {},
   "source": [
    "# Get the data types of all columns of the dataframe."
   ]
  },
  {
   "cell_type": "code",
   "execution_count": 13,
   "id": "59e720cc-da68-489b-bbd9-98730b6df54d",
   "metadata": {},
   "outputs": [
    {
     "data": {
      "text/plain": [
       "tourney_id             object\n",
       "tourney_name           object\n",
       "surface                object\n",
       "draw_size               int64\n",
       "tourney_level          object\n",
       "tourney_date            int64\n",
       "match_num               int64\n",
       "winner_id               int64\n",
       "winner_seed            object\n",
       "winner_entry           object\n",
       "winner_name            object\n",
       "winner_hand            object\n",
       "winner_ht             float64\n",
       "winner_ioc             object\n",
       "winner_age            float64\n",
       "loser_id                int64\n",
       "loser_seed             object\n",
       "loser_entry            object\n",
       "loser_name             object\n",
       "loser_hand             object\n",
       "loser_ht              float64\n",
       "loser_ioc              object\n",
       "loser_age             float64\n",
       "score                  object\n",
       "best_of                 int64\n",
       "round                  object\n",
       "minutes               float64\n",
       "w_ace                 float64\n",
       "w_df                  float64\n",
       "w_svpt                float64\n",
       "w_1stIn               float64\n",
       "w_1stWon              float64\n",
       "w_2ndWon              float64\n",
       "w_SvGms               float64\n",
       "w_bpSaved             float64\n",
       "w_bpFaced             float64\n",
       "l_ace                 float64\n",
       "l_df                  float64\n",
       "l_svpt                float64\n",
       "l_1stIn               float64\n",
       "l_1stWon              float64\n",
       "l_2ndWon              float64\n",
       "l_SvGms               float64\n",
       "l_bpSaved             float64\n",
       "l_bpFaced             float64\n",
       "winner_rank           float64\n",
       "winner_rank_points    float64\n",
       "loser_rank            float64\n",
       "loser_rank_points     float64\n",
       "dtype: object"
      ]
     },
     "execution_count": 13,
     "metadata": {},
     "output_type": "execute_result"
    }
   ],
   "source": [
    "atp_combined_df.dtypes"
   ]
  },
  {
   "cell_type": "markdown",
   "id": "d0a3f336-8edc-465f-a894-a9f890d402e0",
   "metadata": {},
   "source": [
    "# Count the number of non null values for each column. "
   ]
  },
  {
   "cell_type": "code",
   "execution_count": 15,
   "id": "4adae1ed-0bab-4e1d-9fa8-03f715e3ee25",
   "metadata": {},
   "outputs": [
    {
     "name": "stdout",
     "output_type": "stream",
     "text": [
      "<class 'pandas.core.frame.DataFrame'>\n",
      "RangeIndex: 7320 entries, 0 to 7319\n",
      "Data columns (total 49 columns):\n",
      " #   Column              Non-Null Count  Dtype  \n",
      "---  ------              --------------  -----  \n",
      " 0   tourney_id          7320 non-null   object \n",
      " 1   tourney_name        7320 non-null   object \n",
      " 2   surface             7267 non-null   object \n",
      " 3   draw_size           7320 non-null   int64  \n",
      " 4   tourney_level       7320 non-null   object \n",
      " 5   tourney_date        7320 non-null   int64  \n",
      " 6   match_num           7320 non-null   int64  \n",
      " 7   winner_id           7320 non-null   int64  \n",
      " 8   winner_seed         3088 non-null   object \n",
      " 9   winner_entry        1101 non-null   object \n",
      " 10  winner_name         7320 non-null   object \n",
      " 11  winner_hand         7320 non-null   object \n",
      " 12  winner_ht           7039 non-null   float64\n",
      " 13  winner_ioc          7320 non-null   object \n",
      " 14  winner_age          7316 non-null   float64\n",
      " 15  loser_id            7320 non-null   int64  \n",
      " 16  loser_seed          1851 non-null   object \n",
      " 17  loser_entry         1652 non-null   object \n",
      " 18  loser_name          7320 non-null   object \n",
      " 19  loser_hand          7319 non-null   object \n",
      " 20  loser_ht            6888 non-null   float64\n",
      " 21  loser_ioc           7320 non-null   object \n",
      " 22  loser_age           7310 non-null   float64\n",
      " 23  score               7320 non-null   object \n",
      " 24  best_of             7320 non-null   int64  \n",
      " 25  round               7320 non-null   object \n",
      " 26  minutes             6806 non-null   float64\n",
      " 27  w_ace               6968 non-null   float64\n",
      " 28  w_df                6968 non-null   float64\n",
      " 29  w_svpt              6968 non-null   float64\n",
      " 30  w_1stIn             6968 non-null   float64\n",
      " 31  w_1stWon            6968 non-null   float64\n",
      " 32  w_2ndWon            6968 non-null   float64\n",
      " 33  w_SvGms             6968 non-null   float64\n",
      " 34  w_bpSaved           6968 non-null   float64\n",
      " 35  w_bpFaced           6968 non-null   float64\n",
      " 36  l_ace               6968 non-null   float64\n",
      " 37  l_df                6968 non-null   float64\n",
      " 38  l_svpt              6968 non-null   float64\n",
      " 39  l_1stIn             6968 non-null   float64\n",
      " 40  l_1stWon            6968 non-null   float64\n",
      " 41  l_2ndWon            6968 non-null   float64\n",
      " 42  l_SvGms             6968 non-null   float64\n",
      " 43  l_bpSaved           6968 non-null   float64\n",
      " 44  l_bpFaced           6968 non-null   float64\n",
      " 45  winner_rank         7281 non-null   float64\n",
      " 46  winner_rank_points  7281 non-null   float64\n",
      " 47  loser_rank          7246 non-null   float64\n",
      " 48  loser_rank_points   7246 non-null   float64\n",
      "dtypes: float64(27), int64(6), object(16)\n",
      "memory usage: 2.7+ MB\n"
     ]
    }
   ],
   "source": [
    "atp_combined_df.info()"
   ]
  },
  {
   "cell_type": "markdown",
   "id": "4a78a21c-cdce-4f4a-a0e9-f4a566642568",
   "metadata": {},
   "source": [
    "# Converting the integer to datetime format.  "
   ]
  },
  {
   "cell_type": "code",
   "execution_count": 17,
   "id": "1f75d2ac-22ce-4254-9522-4a12b03c0ebc",
   "metadata": {},
   "outputs": [
    {
     "name": "stdout",
     "output_type": "stream",
     "text": [
      "tourney_id                    object\n",
      "tourney_name                  object\n",
      "surface                       object\n",
      "draw_size                      int64\n",
      "tourney_level                 object\n",
      "tourney_date          datetime64[ns]\n",
      "match_num                      int64\n",
      "winner_id                      int64\n",
      "winner_seed                   object\n",
      "winner_entry                  object\n",
      "winner_name                   object\n",
      "winner_hand                   object\n",
      "winner_ht                    float64\n",
      "winner_ioc                    object\n",
      "winner_age                   float64\n",
      "loser_id                       int64\n",
      "loser_seed                    object\n",
      "loser_entry                   object\n",
      "loser_name                    object\n",
      "loser_hand                    object\n",
      "loser_ht                     float64\n",
      "loser_ioc                     object\n",
      "loser_age                    float64\n",
      "score                         object\n",
      "best_of                        int64\n",
      "round                         object\n",
      "minutes                      float64\n",
      "w_ace                        float64\n",
      "w_df                         float64\n",
      "w_svpt                       float64\n",
      "w_1stIn                      float64\n",
      "w_1stWon                     float64\n",
      "w_2ndWon                     float64\n",
      "w_SvGms                      float64\n",
      "w_bpSaved                    float64\n",
      "w_bpFaced                    float64\n",
      "l_ace                        float64\n",
      "l_df                         float64\n",
      "l_svpt                       float64\n",
      "l_1stIn                      float64\n",
      "l_1stWon                     float64\n",
      "l_2ndWon                     float64\n",
      "l_SvGms                      float64\n",
      "l_bpSaved                    float64\n",
      "l_bpFaced                    float64\n",
      "winner_rank                  float64\n",
      "winner_rank_points           float64\n",
      "loser_rank                   float64\n",
      "loser_rank_points            float64\n",
      "dtype: object\n"
     ]
    }
   ],
   "source": [
    "atp_combined_df['tourney_date'] = pd.to_datetime(atp_combined_df['tourney_date'], format='%Y%m%d')\n",
    "print(atp_combined_df.dtypes)"
   ]
  },
  {
   "cell_type": "markdown",
   "id": "6128a140-f22e-4436-ae90-c88fcbb56fdd",
   "metadata": {},
   "source": [
    "# displaying the date column with the right format YYYY-mm-dd"
   ]
  },
  {
   "cell_type": "code",
   "execution_count": 19,
   "id": "0110a3b2-368d-4c2f-8175-0c84ed4adcf3",
   "metadata": {},
   "outputs": [
    {
     "data": {
      "text/plain": [
       "0      2022-01-03\n",
       "1      2022-01-03\n",
       "2      2022-01-03\n",
       "3      2022-01-03\n",
       "4      2022-01-03\n",
       "          ...    \n",
       "7315   2024-02-03\n",
       "7316   2024-02-02\n",
       "7317   2024-02-02\n",
       "7318   2024-02-02\n",
       "7319   2024-02-02\n",
       "Name: tourney_date, Length: 7320, dtype: datetime64[ns]"
      ]
     },
     "execution_count": 19,
     "metadata": {},
     "output_type": "execute_result"
    }
   ],
   "source": [
    "atp_combined_df['tourney_date'] "
   ]
  },
  {
   "cell_type": "markdown",
   "id": "548b9cc1-e56c-498b-af8c-d0ec1f6c1d77",
   "metadata": {},
   "source": [
    "# Dealing with duplicates"
   ]
  },
  {
   "cell_type": "code",
   "execution_count": 21,
   "id": "0f91fe55-26eb-46c0-ab39-c4c393d0134c",
   "metadata": {},
   "outputs": [
    {
     "name": "stdout",
     "output_type": "stream",
     "text": [
      "Number of duplicate rows: 0\n",
      "Number of duplicate rows after handling: 0\n"
     ]
    }
   ],
   "source": [
    "# Identify duplicate rows\n",
    "print(\"Number of duplicate rows:\", atp_combined_df.duplicated().sum())\n",
    "\n",
    "# Drop duplicates and keep only the first occurrence\n",
    "# Reset the index to ensure consistency after combining data\n",
    "atp_combined_df_no_duplicates = atp_combined_df.drop_duplicates(keep='first').reset_index(drop=True)\n",
    "\n",
    "print(\"Number of duplicate rows after handling:\", atp_combined_df.duplicated().sum())"
   ]
  },
  {
   "cell_type": "markdown",
   "id": "fc38b38e-4f2c-46d1-b5c7-10c42282fd62",
   "metadata": {},
   "source": [
    "# Columns to drop. Get rid of unnecessary columns for analysis."
   ]
  },
  {
   "cell_type": "code",
   "execution_count": 23,
   "id": "b9ae4cd9-189c-4bc9-bdba-2fb4ba9b71df",
   "metadata": {},
   "outputs": [],
   "source": [
    "columns_to_drop = ['tourney_id', 'draw_size', 'winner_seed', 'winner_entry', 'loser_seed', 'loser_entry', 'tourney_name', 'tourney_date', 'match_num']\n",
    "atp_combined_df = atp_combined_df.drop(columns=columns_to_drop)"
   ]
  },
  {
   "cell_type": "code",
   "execution_count": 25,
   "id": "a3a90cb9-e080-414c-b4af-8ae95b96ee10",
   "metadata": {},
   "outputs": [
    {
     "data": {
      "text/plain": [
       "(7320, 40)"
      ]
     },
     "execution_count": 25,
     "metadata": {},
     "output_type": "execute_result"
    }
   ],
   "source": [
    "atp_combined_df.shape"
   ]
  },
  {
   "cell_type": "markdown",
   "id": "c6fc9a42-592e-440b-8e6f-380c744dcbaa",
   "metadata": {},
   "source": [
    "# Filling null values with a specific value."
   ]
  },
  {
   "cell_type": "code",
   "execution_count": 27,
   "id": "2d34083b-c0a2-446f-9ab3-06139d522fcf",
   "metadata": {},
   "outputs": [],
   "source": [
    "# Find the most frequent value in the 'surface' and loser_hand columns\n",
    "most_frequent_surface = (atp_combined_df['surface'].mode().iloc[0])\n",
    "most_frequent_loser_hand = (atp_combined_df['loser_hand'].mode().iloc[0])\n",
    "\n",
    "# Replace missing values with the most frequent values\n",
    "atp_combined_df['surface'] = atp_combined_df['surface'].fillna(most_frequent_surface)\n",
    "atp_combined_df['loser_hand'] = atp_combined_df['loser_hand'].fillna(most_frequent_loser_hand)   "
   ]
  },
  {
   "cell_type": "code",
   "execution_count": 29,
   "id": "817cfffa-46a8-4ce5-89c3-324bae63cded",
   "metadata": {},
   "outputs": [],
   "source": [
    "# Replace missing values with the mean of the column.\n",
    "num_variables=['winner_ht','winner_age','loser_ht','loser_age','minutes','w_ace','w_df','w_svpt','w_1stIn','w_1stWon','w_2ndWon','w_SvGms','w_bpSaved','w_bpFaced','l_ace','l_df','l_svpt','l_1stIn','l_1stWon','l_2ndWon','l_SvGms','l_bpSaved','l_bpFaced','winner_rank','winner_rank_points','loser_rank','loser_rank_points']      \n",
    "for column in num_variables:\n",
    "    atp_combined_df[num_variables] = atp_combined_df[num_variables].fillna(atp_combined_df[num_variables].mean()) "
   ]
  },
  {
   "cell_type": "code",
   "execution_count": 31,
   "id": "f47af48a-a3f3-474a-81af-671442fbffa1",
   "metadata": {},
   "outputs": [
    {
     "data": {
      "text/plain": [
       "surface               0\n",
       "tourney_level         0\n",
       "winner_id             0\n",
       "winner_name           0\n",
       "winner_hand           0\n",
       "winner_ht             0\n",
       "winner_ioc            0\n",
       "winner_age            0\n",
       "loser_id              0\n",
       "loser_name            0\n",
       "loser_hand            0\n",
       "loser_ht              0\n",
       "loser_ioc             0\n",
       "loser_age             0\n",
       "score                 0\n",
       "best_of               0\n",
       "round                 0\n",
       "minutes               0\n",
       "w_ace                 0\n",
       "w_df                  0\n",
       "w_svpt                0\n",
       "w_1stIn               0\n",
       "w_1stWon              0\n",
       "w_2ndWon              0\n",
       "w_SvGms               0\n",
       "w_bpSaved             0\n",
       "w_bpFaced             0\n",
       "l_ace                 0\n",
       "l_df                  0\n",
       "l_svpt                0\n",
       "l_1stIn               0\n",
       "l_1stWon              0\n",
       "l_2ndWon              0\n",
       "l_SvGms               0\n",
       "l_bpSaved             0\n",
       "l_bpFaced             0\n",
       "winner_rank           0\n",
       "winner_rank_points    0\n",
       "loser_rank            0\n",
       "loser_rank_points     0\n",
       "dtype: int64"
      ]
     },
     "execution_count": 31,
     "metadata": {},
     "output_type": "execute_result"
    }
   ],
   "source": [
    "#identifying missing values\n",
    "atp_combined_df.isnull().sum()"
   ]
  },
  {
   "cell_type": "code",
   "execution_count": 33,
   "id": "3fb35965-0c0a-45b9-a045-7151f1967b81",
   "metadata": {},
   "outputs": [
    {
     "data": {
      "text/plain": [
       "(7320, 40)"
      ]
     },
     "execution_count": 33,
     "metadata": {},
     "output_type": "execute_result"
    }
   ],
   "source": [
    "atp_combined_df.shape"
   ]
  },
  {
   "cell_type": "code",
   "execution_count": 35,
   "id": "94c27a89-485a-463f-8587-0e682d81d1d4",
   "metadata": {},
   "outputs": [],
   "source": [
    "atp_combined_df.to_csv('atp_matches_combined_cleaned.csv',index=False) "
   ]
  },
  {
   "cell_type": "markdown",
   "id": "de60c89e-64b0-40cb-b62e-c6587a73a9fa",
   "metadata": {},
   "source": [
    "# EDA: Analyzing categorical variables"
   ]
  },
  {
   "cell_type": "code",
   "execution_count": null,
   "id": "dd8af810-3eae-442d-acb1-ff2dfecbc94c",
   "metadata": {},
   "outputs": [],
   "source": [
    "import matplotlib.pyplot as plt\n",
    "import seaborn as sns\n",
    "\n",
    "# Min and Max age of the winners\n",
    "min_age = atp_combined_df['winner_age'].min()\n",
    "max_age = atp_combined_df['winner_age'].max()\n",
    "\n",
    "print(f\"Minimum age: {min_age}\")\n",
    "print(f\"Maximum age: {max_age}\")"
   ]
  },
  {
   "cell_type": "code",
   "execution_count": null,
   "id": "b8bec861-b8df-4de8-8599-390a42009dba",
   "metadata": {},
   "outputs": [],
   "source": [
    "#Calculate descriptive statistics\n",
    "print(atp_combined_df.describe())"
   ]
  },
  {
   "cell_type": "code",
   "execution_count": 53,
   "id": "a7a83f91-8329-4fb0-a2ad-72b893f81d01",
   "metadata": {},
   "outputs": [
    {
     "data": {
      "image/png": "[encoded data removed]",
      "text/plain": [
       "<Figure size 640x480 with 1 Axes>"
      ]
     },
     "metadata": {},
     "output_type": "display_data"
    }
   ],
   "source": [
    "import pandas as pd\n",
    "import matplotlib.pyplot as plt\n",
    "import seaborn as sns\n",
    "# Create histogram of winner rank\n",
    "plt.hist(atp_combined_df['winner_rank'], bins=30)\n",
    "plt.title('Distribution of Winner Rank')\n",
    "plt.xlabel('Rank')\n",
    "plt.ylabel('Frequency')\n",
    "plt.show()"
   ]
  },
  {
   "cell_type": "code",
   "execution_count": 55,
   "id": "154fca9e-8ffc-4a1d-867d-764155353250",
   "metadata": {},
   "outputs": [
    {
     "data": {
      "image/png": "[encoded data removed]",
      "text/plain": [
       "<Figure size 640x480 with 1 Axes>"
      ]
     },
     "metadata": {},
     "output_type": "display_data"
    }
   ],
   "source": [
    "# Create scatter plot of winner rank vs. winner serve points won\n",
    "plt.scatter(atp_combined_df['winner_rank'], atp_combined_df['w_SvGms'])\n",
    "plt.title('Winner Rank vs. Serve Points Won')\n",
    "plt.xlabel('Rank')\n",
    "plt.ylabel('Serve Points Won')\n",
    "plt.show()\n",
    "\n",
    "# The players with the best ranking have more winning service points. "
   ]
  },
  {
   "cell_type": "code",
   "execution_count": 31,
   "id": "056f8a19-1c0c-43e0-98b3-e7ddbe003793",
   "metadata": {},
   "outputs": [
    {
     "data": {
      "text/plain": [
       "[Text(0.5, 0, 'Surface'), Text(0, 0.5, 'Aces')]"
      ]
     },
     "execution_count": 31,
     "metadata": {},
     "output_type": "execute_result"
    },
    {
     "data": {
      "image/png": "[encoded data removed]",
      "text/plain": [
       "<Figure size 640x480 with 1 Axes>"
      ]
     },
     "metadata": {},
     "output_type": "display_data"
    }
   ],
   "source": [
    "# Distribution of aces by surface type\n",
    "How different court surfaces affect serving performance in high-level tennis tournaments, \n",
    "highlighting the relationship between court characteristics and the effectiveness of serves. \n",
    "\n",
    "import seaborn as sns\n",
    "atp_combined_df_h = atp_combined_df[atp_combined_df['tourney_level'].astype(str).isin(['G','M'])].copy()\n",
    "atp_combined_df_h['w_ace'] = atp_combined_df_h['w_ace'].astype(float)\n",
    "g = sns.boxplot(x=\"surface\", y=\"w_ace\", data=atp_combined_df_h)\n",
    "g.set(xlabel='Surface', ylabel='Aces')"
   ]
  },
  {
   "cell_type": "raw",
   "id": "66447f75-ae28-40d7-9637-a33db36cbdc3",
   "metadata": {},
   "source": [
    "Key observations:\n",
    "# Median aces: The horizontal line in each box represents the median number of aces for each surface.\n",
    "Variability: The size of each box indicates the interquartile range (IQR), showing the spread of the middle     50% of the data. Larger boxes suggest more variability in the number of aces on that surface.\n",
    "\n",
    "# Outliers: Points beyond the whiskers represent outliers, which could be matches with an unusually high number of aces.\n",
    "# Surface comparison:\n",
    "Grass courts would likely show the highest median and upper quartile for aces, as the ball tends to skid and stay low, favoring powerful servers.\n",
    "\n",
    "Hard courts might show the next highest number of aces, as they provide a good balance of speed and bounce.\n",
    "Clay courts would probably display the lowest number of aces, as the slower surface allows for better returns.\n",
    "\n",
    "data is skewed ? \n",
    "If it's not centered, it suggests an asymmetrical distribution of aces on that surface."
   ]
  },
  {
   "cell_type": "raw",
   "id": "a19d31c3-57e1-4826-97ba-f44564640a31",
   "metadata": {},
   "source": [
    "# Create box plot of winner rank by surface\n",
    "sns.boxplot(x='surface', y='winner_rank', data=atp_combined_df)\n",
    "plt.title('Winner Rank by Surface')\n",
    "plt.show()"
   ]
  },
  {
   "cell_type": "code",
   "execution_count": 35,
   "id": "83be686d-eda9-4b0c-a21c-a4bc33c5a84a",
   "metadata": {},
   "outputs": [
    {
     "data": {
      "image/png": "[encoded data removed]",
      "text/plain": [
       "<Figure size 2000x1200 with 8 Axes>"
      ]
     },
     "metadata": {},
     "output_type": "display_data"
    }
   ],
   "source": [
    "import pandas as pd\n",
    "import matplotlib.pyplot as plt\n",
    "\n",
    "#columns choosen\n",
    "dimensions = ['winner_rank','loser_rank','winner_age','loser_age','winner_ht','loser_ht','w_svpt','l_svpt']\n",
    "\n",
    "plt.figure(1, figsize=(20,12))\n",
    "\n",
    "for i in range(1,9):\n",
    "    plt.subplot(2,4,i)\n",
    "    atp_combined_df[dimensions[i-1]].plot(kind='hist', title=dimensions[i-1])\n"
   ]
  },
  {
   "cell_type": "raw",
   "id": "33e1835e-2a01-42d9-97d1-4f7958b221d0",
   "metadata": {},
   "source": [
    "Analysis of Distributions\n",
    "# Rankings (winner_rank and loser_rank)\n",
    "These histograms would show the distribution of rankings for winners and losers. \n",
    "A concentration towards the left would indicate that most players have high rankings (the best players being ranked lower numerically).\n",
    "\n",
    "#Ages (winner_age and loser_age)\n",
    "These graphs would reveal the age distribution of winners and losers. \n",
    "We could observe if certain age groups are more frequent among winners or losers.\n",
    "\n",
    "#Heights (winner_ht and loser_ht)\n",
    "The height histograms would show the distribution of players' heights. \n",
    "This could indicate if certain heights are more common in professional tennis.\n",
    "\n",
    "#Service Points (w_svpt and l_svpt)\n",
    "These graphs would illustrate the distribution of the number of service points played by winners and losers. This could provide insights into the length and intensity of matches."
   ]
  },
  {
   "cell_type": "code",
   "execution_count": null,
   "id": "336def70-0591-4ad2-ad93-c5dc0dce1f78",
   "metadata": {},
   "outputs": [],
   "source": []
  },
  {
   "cell_type": "markdown",
   "id": "cb7e1384-ffea-46b0-86d9-c2e30103e1da",
   "metadata": {},
   "source": [
    "# Key Performance Indicators (KPIs):"
   ]
  },
  {
   "cell_type": "code",
   "execution_count": null,
   "id": "be64af45-50ae-4bec-85a6-01c17abd0fb6",
   "metadata": {},
   "outputs": [],
   "source": [
    "# Calculate serve percentage for winner\n",
    "atp_combined_df['w_serve_pct'] = atp_combined_df['w_1stWon'] / atp_combined_df['w_svpt']\n",
    "\n",
    "# Calculate return percentage for winner\n",
    "atp_combined_df['w_return_pct'] = (atp_combined_df['w_1stWon'] + atp_combined_df['w_2ndWon']) / (atp_combined_df['w_svpt'] + atp_combined_df['w_df'])\n",
    "\n",
    "# Calculate serve percentage for loser\n",
    "atp_combined_df['l_serve_pct'] = atp_combined_df['l_1stWon'] / atp_combined_df['l_svpt']\n",
    "\n",
    "# Calculate return percentage for loser\n",
    "atp_combined_df['l_return_pct'] = (atp_combined_df['l_1stWon'] + atp_combined_df['l_2ndWon']) / (atp_combined_df['l_svpt'] + atp_combined_df['l_df'])\n",
    "\n",
    "# Calculate difference in serve percentage and return percentage between winner and loser\n",
    "atp_combined_df['serve_pct_diff'] = atp_combined_df['w_serve_pct'] - atp_combined_df['l_serve_pct']\n",
    "atp_combined_df['return_pct_diff'] = atp_combined_df['w_return_pct'] - atp_combined_df['l_return_pct']['w_serve_pct'] = atp_combined_df['w_1stWon'] / atp_combined_df['w_svpt']\n",
    "\n",
    "# Calculate return percentage for winner\n",
    "atp_combined_df['w_return_pct'] = (atp_combined_df['w_1stWon'] + atp_combined_df['w_2ndWon']) / (atp_combined_df['w_svpt'] + atp_combined_df['w_df'])\n",
    "\n",
    "# Calculate serve percentage for loser\n",
    "atp_combined_df['l_serve_pct'] = atp_combined_df['l_1stWon'] / atp_combined_df['l_svpt']\n",
    "\n",
    "# Calculate return percentage for loser\n",
    "atp_combined_df['l_return_pct'] = (atp_combined_df['l_1stWon'] + atp_combined_df['l_2ndWon']) / (atp_combined_df['l_svpt'] + atp_combined_df['l_df'])\n",
    "\n",
    "# Calculate difference in serve percentage and return percentage between winner and loser\n",
    "atp_combined_df['serve_pct_diff'] = atp_combined_df['w_serve_pct'] - atp_combined_df['l_serve_pct']\n",
    "atp_combined_df['return_pct_diff'] = atp_combined_df['w_return_pct'] - atp_combined_df['l_return_pct']\n"
   ]
  },
  {
   "cell_type": "markdown",
   "id": "2de34dc2-31e2-4039-afcc-68ec788ad9b6",
   "metadata": {},
   "source": [
    "# Compute summary statistics for numerical columns."
   ]
  },
  {
   "cell_type": "code",
   "execution_count": 65,
   "id": "953cc25b-e7bf-45c8-8805-7d4d8184dcbc",
   "metadata": {},
   "outputs": [
    {
     "name": "stdout",
     "output_type": "stream",
     "text": [
      "         winner_ht   winner_age     loser_ht    loser_age      best_of  \\\n",
      "count  7039.000000  7316.000000  6888.000000  7310.000000  7320.000000   \n",
      "mean    187.454610    26.585675   186.615273    26.956826     3.320492   \n",
      "std       6.742548     4.403326     6.589726     4.468158     0.733718   \n",
      "min      71.000000    17.400000   163.000000    15.000000     3.000000   \n",
      "25%     183.000000    23.600000   183.000000    23.900000     3.000000   \n",
      "50%     188.000000    26.000000   185.000000    26.450000     3.000000   \n",
      "75%     193.000000    28.900000   191.000000    29.775000     3.000000   \n",
      "max     211.000000    43.600000   211.000000    43.900000     5.000000   \n",
      "\n",
      "           minutes        w_ace         w_df       w_svpt      w_1stIn  ...  \\\n",
      "count  6806.000000  6968.000000  6968.000000  6968.000000  6968.000000  ...   \n",
      "mean    116.967676     6.784874     2.453215    78.315011    49.770092  ...   \n",
      "std      43.120202     5.222899     2.221247    28.452306    18.837949  ...   \n",
      "min       0.000000     0.000000     0.000000     5.000000     3.000000  ...   \n",
      "25%      86.000000     3.000000     1.000000    57.000000    36.000000  ...   \n",
      "50%     110.000000     6.000000     2.000000    73.000000    47.000000  ...   \n",
      "75%     143.000000     9.000000     3.000000    94.000000    60.000000  ...   \n",
      "max     345.000000    54.000000    20.000000   228.000000   153.000000  ...   \n",
      "\n",
      "           l_1stIn     l_1stWon     l_2ndWon      l_SvGms    l_bpSaved  \\\n",
      "count  6968.000000  6968.000000  6968.000000  6968.000000  6968.000000   \n",
      "mean     50.297933    33.717566    14.339696    12.342997     4.699053   \n",
      "std      18.810773    14.130663     6.745842     4.108864     3.260604   \n",
      "min       2.000000     0.000000     0.000000     1.000000     0.000000   \n",
      "25%      36.000000    23.000000    10.000000     9.000000     2.000000   \n",
      "50%      47.000000    31.000000    13.000000    11.000000     4.000000   \n",
      "75%      61.000000    42.000000    18.000000    15.000000     7.000000   \n",
      "max     152.000000   101.000000    48.000000    31.000000    23.000000   \n",
      "\n",
      "         l_bpFaced  winner_rank  winner_rank_points   loser_rank  \\\n",
      "count  6968.000000  7281.000000         7281.000000  7246.000000   \n",
      "mean      8.351464    73.357368         1769.642906   110.897047   \n",
      "std       4.100648   118.467013         1833.242405   173.227629   \n",
      "min       0.000000     1.000000            1.000000     1.000000   \n",
      "25%       5.000000    17.000000          692.000000    35.000000   \n",
      "50%       8.000000    46.000000         1010.000000    66.000000   \n",
      "75%      11.000000    85.000000         2130.000000   111.000000   \n",
      "max      31.000000  1783.000000        11795.000000  2119.000000   \n",
      "\n",
      "       loser_rank_points  \n",
      "count        7246.000000  \n",
      "mean         1143.015733  \n",
      "std          1217.596020  \n",
      "min             1.000000  \n",
      "25%           545.000000  \n",
      "50%           813.000000  \n",
      "75%          1211.000000  \n",
      "max         11245.000000  \n",
      "\n",
      "[8 rows x 28 columns]\n"
     ]
    }
   ],
   "source": [
    "print(atp_combined_df.describe(include='number'))"
   ]
  },
  {
   "cell_type": "raw",
   "id": "049b9ef4-98dd-4ce0-8f34-b52f0f4f7490",
   "metadata": {},
   "source": [
    "# Minimum age: 18 and Maximum age: 27 for winners.\n",
    "# Minimum age: 21 and Maximum age: 27 for loosers."
   ]
  },
  {
   "cell_type": "code",
   "execution_count": 67,
   "id": "42b2ecce-164c-479b-a7da-c76505acf66a",
   "metadata": {},
   "outputs": [
    {
     "data": {
      "text/plain": [
       "best_of\n",
       "3    6147\n",
       "5    1173\n",
       "Name: count, dtype: int64"
      ]
     },
     "execution_count": 67,
     "metadata": {},
     "output_type": "execute_result"
    }
   ],
   "source": [
    "# Counts for 'best_of' column.\n",
    "atp_combined_df['best_of'].value_counts()"
   ]
  },
  {
   "cell_type": "raw",
   "id": "e3254e03-15e8-4e09-8fbe-595a20963444",
   "metadata": {},
   "source": [
    "# I see above that 75% of the players win the match in 3 sets max.\n",
    "# That's the reason for which we will choose the matches with the winner in 2 out of 3 sets."
   ]
  },
  {
   "cell_type": "code",
   "execution_count": 40,
   "id": "49759278-2d7d-474b-af6d-bbb28c40fe89",
   "metadata": {},
   "outputs": [
    {
     "data": {
      "text/plain": [
       "winner_hand\n",
       "R    6308\n",
       "L     920\n",
       "U      92\n",
       "Name: count, dtype: int64"
      ]
     },
     "execution_count": 40,
     "metadata": {},
     "output_type": "execute_result"
    }
   ],
   "source": [
    "# Counts for 'winner_hand' column.\n",
    "atp_combined_df['winner_hand'].value_counts()"
   ]
  },
  {
   "cell_type": "raw",
   "id": "70e631e9-f317-4a6f-a557-d34761d28f10",
   "metadata": {},
   "source": [
    "# The most players are right-handed in the tournaments. \n",
    "# the probability to win is significant higher for right players. "
   ]
  },
  {
   "cell_type": "code",
   "execution_count": null,
   "id": "3d17bef2-df44-4752-ae71-505f6d996622",
   "metadata": {},
   "outputs": [],
   "source": [
    "winner_3_sets = atp_combined_df[atp_combined_df['best_of'].isin([3])]\n",
    "winner_3_sets"
   ]
  },
  {
   "cell_type": "markdown",
   "id": "d7a5b515-5d4b-417e-a5a1-b213b3addd57",
   "metadata": {},
   "source": [
    "# list of countries we will be analyzing from ATP rankings on ATP tour website."
   ]
  },
  {
   "cell_type": "code",
   "execution_count": null,
   "id": "a704291d-ff8e-49cc-b2be-be0e83e8c499",
   "metadata": {},
   "outputs": [],
   "source": [
    "countries=['USA', 'GER', 'ESP', 'SRB', 'ITA', 'POL', 'NOR', 'URU', 'VIE', 'RSA'] ## we'll use this list right now.\n",
    "\n",
    "countries = [country.strip().upper() for country in countries]\n",
    "avg_LoT_won_mean.index = avg_LoT_won_mean.index.str.strip().str.upper()\n",
    "\n",
    "# Average of length of time for matches that a country won\n",
    "avg_LoT_won = winner_3_sets[['winner_ioc','minutes']].groupby('winner_ioc')\n",
    "avg_LoT_won_mean=avg_LoT_won.mean()\n",
    "#minWon=\n",
    "minWon= avg_LoT_won_mean.loc[countries] #pull average match length for the listing of countries above\n",
    "\n",
    "# because there is a winner_ioc and a loser_ioc, we have to rename the index to countries in order to combine the dataframes\n",
    "minWon.index.name='Country'\n",
    "minWon"
   ]
  },
  {
   "cell_type": "code",
   "execution_count": 71,
   "id": "3d14f9bb-9242-4b06-a535-1d16a74493d2",
   "metadata": {},
   "outputs": [
    {
     "ename": "NameError",
     "evalue": "name 'winner_3_sets' is not defined",
     "output_type": "error",
     "traceback": [
      "\u001b[1;31m---------------------------------------------------------------------------\u001b[0m",
      "\u001b[1;31mNameError\u001b[0m                                 Traceback (most recent call last)",
      "Cell \u001b[1;32mIn[71], line 1\u001b[0m\n\u001b[1;32m----> 1\u001b[0m \u001b[38;5;28mprint\u001b[39m(winner_3_sets[\u001b[38;5;124m'\u001b[39m\u001b[38;5;124mwinner_ioc\u001b[39m\u001b[38;5;124m'\u001b[39m]\u001b[38;5;241m.\u001b[39munique())\n",
      "\u001b[1;31mNameError\u001b[0m: name 'winner_3_sets' is not defined"
     ]
    }
   ],
   "source": [
    "print(winner_3_sets['winner_ioc'].unique())"
   ]
  },
  {
   "cell_type": "markdown",
   "id": "b539d7a7-06ad-4489-8f8c-d74de564ee31",
   "metadata": {},
   "source": [
    "# now we will do the same for the matches that the countries lost"
   ]
  },
  {
   "cell_type": "code",
   "execution_count": null,
   "id": "6c028c4e-1dec-4b57-abb7-093bfa9a8e63",
   "metadata": {},
   "outputs": [],
   "source": [
    "\n",
    "avg_LoT_lost = winner_3_sets[['loser_ioc','minutes']].groupby('loser_ioc')\n",
    "avg_LoT_lost_mean = avg_LoT_lost.mean()\n",
    "minLost = avg_LoT_lost_mean.loc[countries]\n",
    "minLost.index.name = 'Country'\n",
    "minLost"
   ]
  },
  {
   "cell_type": "markdown",
   "id": "ab7ca743-c828-4c19-869e-0800ee52510f",
   "metadata": {},
   "source": [
    "# Let's combine the average won and lost time to a total average"
   ]
  },
  {
   "cell_type": "code",
   "execution_count": null,
   "id": "7ba3fb56-9c04-4ff1-8250-eb9b1a2fd1e9",
   "metadata": {},
   "outputs": [],
   "source": [
    "minLost['minutesWon']=minWon['minutes']\n",
    "minLost['Average']= (minLost['minutes']+minLost['minutesWon'])/2\n",
    "minLost"
   ]
  },
  {
   "cell_type": "code",
   "execution_count": null,
   "id": "6d1c5edc-afa7-4d85-8f7b-4e0377b161a2",
   "metadata": {},
   "outputs": [],
   "source": [
    "#Average column represents the average time for all matches.\n",
    "minLost['Average'] = average_values"
   ]
  },
  {
   "cell_type": "code",
   "execution_count": null,
   "id": "db5dadad-9378-4eda-876e-ec9982d5b0f5",
   "metadata": {},
   "outputs": [],
   "source": [
    "import seaborn as sns\n",
    "import matplotlib.pyplot as plt\n",
    "import numpy as np\n",
    "\n",
    "minLost[minLost['Average'].plot(kind='bar',\n",
    "                    ylim= (80,105))"
   ]
  },
  {
   "cell_type": "code",
   "execution_count": null,
   "id": "05c372df-73ca-46c0-bc51-44af886d2f4f",
   "metadata": {},
   "outputs": [],
   "source": [
    "print(minLost.columns)"
   ]
  },
  {
   "cell_type": "markdown",
   "id": "482a1076-e2a3-4ef8-84ed-09baa68d25c1",
   "metadata": {},
   "source": [
    "This graph clearly shows that some countries have a fetish for one surface over another. \n",
    "Spanish players are known as the masters in clay court who play incredibly long points. As this graph shows, Spanish players play longer matches on average than every other country expect for Argentina, a country also known for its clay court play. The United States, as to be expected, plays among the shortest matches on average, only behind Poland, a country where hard courts are the predominant surface."
   ]
  },
  {
   "cell_type": "markdown",
   "id": "02343427-a9fe-4ca9-9ef1-98ff4d374c35",
   "metadata": {},
   "source": [
    "# Right or Left - who is better?"
   ]
  },
  {
   "cell_type": "raw",
   "id": "7f47468f-c7d0-4482-af2c-b32546dc855d",
   "metadata": {},
   "source": [
    "# Is more advantageous right player that left hand or the inverse ?\n",
    "# calculate the win percentage of right-handed players against left-handed players in a tennis match dataset using descriptive statistics for EDA."
   ]
  },
  {
   "cell_type": "code",
   "execution_count": 73,
   "id": "30e45b03-f7cc-4da9-925c-0f2645facded",
   "metadata": {},
   "outputs": [
    {
     "name": "stdout",
     "output_type": "stream",
     "text": [
      "The right hand player has a 53.16% chance of winning against a left hand player\n"
     ]
    }
   ],
   "source": [
    "# counts the number of rows in the df where the 'winner_hand' column is 'R' (right-handed) \n",
    "# and the 'loser_hand' column is 'L' (left-handed). \n",
    "#giving the number of matches won by right-handed players against left-handed players.\n",
    "R = len(atp_combined_df[(atp_combined_df.winner_hand == 'R') & (atp_combined_df.loser_hand == 'L')])\n",
    "#Similar to the previous line, but here for left-handed players against right-handed one.\n",
    "L = len(atp_combined_df[(atp_combined_df.winner_hand == 'L') & (atp_combined_df.loser_hand == 'R')])\n",
    "# The win percentage is calculated as the number of matches won by right-handed players (R) \n",
    "# divided by the total number of matches played between right-handed and left-handed players (R + L), \n",
    "# multiplied by 100 to get the percentage and finally round the percentage to 2 decimal places.\n",
    "if R + L > 0:\n",
    "    percentage = round(100 * np.true_divide(R, R + L), 2)\n",
    "    print(f'The right hand player has a {percentage}% chance of winning against a left hand player')\n",
    "else:\n",
    "    print(\"No data available for right-handed vs left-handed matches\")"
   ]
  },
  {
   "cell_type": "code",
   "execution_count": 75,
   "id": "82ac52d4-5151-4803-b23a-c79d4e580564",
   "metadata": {},
   "outputs": [
    {
     "name": "stdout",
     "output_type": "stream",
     "text": [
      "R: 891\n",
      "L: 785\n"
     ]
    }
   ],
   "source": [
    "print(\"R:\", R)\n",
    "print(\"L:\", L)"
   ]
  },
  {
   "cell_type": "code",
   "execution_count": 77,
   "id": "fbd86fec-610e-4033-877e-2a57e83f2e2f",
   "metadata": {},
   "outputs": [
    {
     "name": "stdout",
     "output_type": "stream",
     "text": [
      "winner_hand\n",
      "R    6308\n",
      "L     920\n",
      "U      92\n",
      "Name: count, dtype: int64\n",
      "loser_hand\n",
      "R    6130\n",
      "L    1011\n",
      "U     178\n",
      "Name: count, dtype: int64\n"
     ]
    }
   ],
   "source": [
    "print(atp_combined_df['winner_hand'].value_counts())\n",
    "print(atp_combined_df['loser_hand'].value_counts())"
   ]
  },
  {
   "cell_type": "code",
   "execution_count": 79,
   "id": "c79fae11-b788-426d-bc12-a0f5bc4c4c6f",
   "metadata": {},
   "outputs": [
    {
     "name": "stderr",
     "output_type": "stream",
     "text": [
      "C:\\Users\\Utilisateur\\AppData\\Local\\Temp\\ipykernel_1428\\2291965255.py:5: UserWarning: \n",
      "\n",
      "`distplot` is a deprecated function and will be removed in seaborn v0.14.0.\n",
      "\n",
      "Please adapt your code to use either `displot` (a figure-level function with\n",
      "similar flexibility) or `histplot` (an axes-level function for histograms).\n",
      "\n",
      "For a guide to updating your code to use the new functions, please see\n",
      "https://gist.github.com/mwaskom/de44147ed2974457ad6372750bbe5751\n",
      "\n",
      "  sns.distplot(np.random.binomial(R + L, 0.5, 100000),np.arange(9300,9900,1))\n",
      "C:\\Users\\Utilisateur\\anaconda3\\Lib\\site-packages\\numpy\\lib\\histograms.py:885: RuntimeWarning: invalid value encountered in divide\n",
      "  return n/db/n.sum(), bin_edges\n",
      "C:\\Users\\Utilisateur\\anaconda3\\Lib\\site-packages\\seaborn\\_oldcore.py:1119: FutureWarning: use_inf_as_na option is deprecated and will be removed in a future version. Convert inf values to NaN before operating instead.\n",
      "  with pd.option_context('mode.use_inf_as_na', True):\n"
     ]
    },
    {
     "name": "stdout",
     "output_type": "stream",
     "text": [
      "891\n"
     ]
    },
    {
     "data": {
      "image/png": "[encoded data removed]",
      "text/plain": [
       "<Figure size 640x480 with 1 Axes>"
      ]
     },
     "metadata": {},
     "output_type": "display_data"
    }
   ],
   "source": [
    "import seaborn as sns\n",
    "import matplotlib.pyplot as plt\n",
    "import numpy as np\n",
    "\n",
    "sns.distplot(np.random.binomial(R + L, 0.5, 100000),np.arange(9300,9900,1))\n",
    "plt.plot(R,0,'o', markersize = 20)\n",
    "plt.title('Binomial distribution of ' + str(L+R) + ' Coin tosses')\n",
    "plt.xlabel('Number of wins for the right-handed players')\n",
    "plt.legend(['# of actual right-hand wins over left-handed players','Binomial Distribution'], loc = 2)\n",
    "print(R)"
   ]
  },
  {
   "cell_type": "raw",
   "id": "64309f4d-92cd-4565-b464-c0146bbce6bb",
   "metadata": {},
   "source": [
    "# Hypothesis testing: The dataset used for is 'atp_matches_combined.csv'. \n",
    "# These hypothesis tests cover various aspects of the tennis matches, including player performance, physical attributes and court conditions."
   ]
  },
  {
   "cell_type": "markdown",
   "id": "c35ba806-3346-4d32-afda-acd5c3cf2393",
   "metadata": {},
   "source": [
    "# Is the winner's age different significantly between hard court and clay court?"
   ]
  },
  {
   "cell_type": "code",
   "execution_count": 48,
   "id": "43666f4a-8f3d-4e74-b004-64dd0f32ba57",
   "metadata": {},
   "outputs": [
    {
     "name": "stdout",
     "output_type": "stream",
     "text": [
      "T-statistic: -0.9017391454891465\n",
      "P-value: 0.36722808135030427\n",
      "Fail to reject the null hypothesis.There is no significant difference in winner's age between courts.\n"
     ]
    }
   ],
   "source": [
    "import pandas as pd\n",
    "import numpy as np\n",
    "from scipy import stats\n",
    "# Filtering for hard and clay court matches\n",
    "hard_court_ages = atp_combined_df[atp_combined_df['surface'] == 'Hard']['winner_age']\n",
    "clay_court_ages = atp_combined_df[atp_combined_df['surface'] == 'Clay']['winner_age']\n",
    "# Performing independent t-test\n",
    "t_statistic, p_value = stats.ttest_ind(hard_court_ages, clay_court_ages)\n",
    "print(f\"T-statistic: {t_statistic}\")\n",
    "print(f\"P-value: {p_value}\")\n",
    "# Interpret results\n",
    "alpha = 0.05 #significance level\n",
    "if p_value < alpha:\n",
    "    print(\"Reject the null hypothesis. There's a significant difference in winner's age between courts.\")\n",
    "else:\n",
    "    print(\"Fail to reject the null hypothesis.There is no significant difference in winner's age between courts.\")"
   ]
  },
  {
   "cell_type": "code",
   "execution_count": null,
   "id": "f05fc0ee-90db-4346-9d98-1c4990a50903",
   "metadata": {},
   "outputs": [],
   "source": [
    "# We want to compare the means of a numerical column 'winner_age' for 2 groups (hard and clay).\n",
    "# we will use two-sample t-test method to compare the mean age of winners on hard and clay courts."
   ]
  },
  {
   "cell_type": "markdown",
   "id": "3edb07ad-be08-4409-8bf5-926e9364fd13",
   "metadata": {},
   "source": [
    "# Do right-handed players win more often than left-handed players?"
   ]
  },
  {
   "cell_type": "code",
   "execution_count": 50,
   "id": "f48b894e-f615-46b8-aa06-1060b6884018",
   "metadata": {},
   "outputs": [
    {
     "name": "stdout",
     "output_type": "stream",
     "text": [
      "Chi-square test for handedness of winners:\n",
      "Chi-square statistic: 0.0\n",
      "p-value: 1.0\n"
     ]
    }
   ],
   "source": [
    "from scipy.stats import chi2_contingency\n",
    "\n",
    "# Create contingency table\n",
    "contingency_table = pd.crosstab(atp_combined_df['winner_hand'], columns='count')\n",
    "\n",
    "# Perform chi-square test\n",
    "chi2, p_value, dof, expected = stats.chi2_contingency(contingency_table)\n",
    "\n",
    "print(\"Chi-square test for handedness of winners:\")\n",
    "print(f\"Chi-square statistic: {chi2}\")\n",
    "print(f\"p-value: {p_value}\") \n",
    "#If the p-value is less than 0.05, there's a significant association between handedness and winning probability."
   ]
  },
  {
   "cell_type": "markdown",
   "id": "82413b8f-1c27-48bc-9cd7-c6c99e7344e7",
   "metadata": {},
   "source": []
  },
  {
   "cell_type": "markdown",
   "id": "d656aee2-3cb8-4c7f-bada-292612f49d07",
   "metadata": {},
   "source": [
    " # Is there a correlation between winner player height and number of aces?"
   ]
  },
  {
   "cell_type": "code",
   "execution_count": 52,
   "id": "ab14bcee-33fc-4944-b042-bef14d2f7144",
   "metadata": {},
   "outputs": [
    {
     "name": "stdout",
     "output_type": "stream",
     "text": [
      "Correlation between winner's height and aces:\n",
      "Correlation coefficient: 0.4059381885830049\n",
      "p-value: 1.6570993153351097e-288\n"
     ]
    }
   ],
   "source": [
    "# The Pearson correlation test examines the relationship between a player's height and the number of aces served.\n",
    "# A positive correlation coefficient indicates that taller players tend to serve more aces. \n",
    "# If the p-value is less than 0.05, this relationship is significant.\n",
    "import pandas as pd\n",
    "import numpy as np\n",
    "import matplotlib.pyplot as plt\n",
    "import scipy.stats as st\n",
    "\n",
    "# Calculate correlation coefficient and p-value\n",
    "corr_coef, p_value = stats.pearsonr(atp_combined_df['winner_ht'], atp_combined_df['w_ace'])\n",
    "\n",
    "print(\"Correlation between winner's height and aces:\")\n",
    "print(f\"Correlation coefficient: {corr_coef}\")\n",
    "print(f\"p-value: {p_value}\")\n"
   ]
  },
  {
   "cell_type": "markdown",
   "id": "5ca30bde-aef8-499b-9a4b-f9b2a9f323a5",
   "metadata": {},
   "source": [
    "# Do players from certain countries (ioc) have a higher win rate on specific surfaces?"
   ]
  },
  {
   "cell_type": "code",
   "execution_count": 87,
   "id": "299ca3a3-f80b-48d1-8768-c259d0fb6844",
   "metadata": {},
   "outputs": [
    {
     "name": "stdout",
     "output_type": "stream",
     "text": [
      "One-way ANOVA for IOC win rates on different surfaces:\n",
      "F-statistic: 76.21237917973812\n",
      "p-value: 3.248305491186151e-26\n"
     ]
    }
   ],
   "source": [
    "# Calculate win rates for each country (ioc) on each surface\n",
    "win_rates = atp_combined_df.groupby(['winner_ioc', 'surface']).size().unstack(fill_value=0)\n",
    "win_rates = win_rates.div(win_rates.sum(axis=1), axis=0)\n",
    "\n",
    "# Perform one-way ANOVA for win rates on different surfaces\n",
    "surfaces = ['Hard', 'Clay', 'Grass']\n",
    "surface_rates = [win_rates[surface].dropna() for surface in surfaces]\n",
    "\n",
    "f_statistic, p_value = stats.f_oneway(*surface_rates)\n",
    "\n",
    "print(\"One-way ANOVA for IOC win rates on different surfaces:\")\n",
    "print(f\"F-statistic: {f_statistic}\")\n",
    "print(f\"p-value: {p_value}\")"
   ]
  },
  {
   "cell_type": "markdown",
   "id": "d5e11476-7d16-4017-8c05-69359b4af32f",
   "metadata": {},
   "source": [
    "# Is there a correlation between a country's (IOC) average player height and their win rate on serve?"
   ]
  },
  {
   "cell_type": "code",
   "execution_count": 54,
   "id": "6a7a073a-ead4-4893-8044-f446981bc5de",
   "metadata": {},
   "outputs": [
    {
     "name": "stdout",
     "output_type": "stream",
     "text": [
      "Pearson correlation between average height and serve win rate by country:\n",
      "Correlation coefficient: 0.2399155151591337\n",
      "p-value: 0.03320166321299519\n"
     ]
    }
   ],
   "source": [
    "import scipy.stats as st\n",
    "# Calculate average height and serve win rate for each IOC\n",
    "ioc_stats = atp_combined_df.groupby('winner_ioc').agg({\n",
    "    'winner_ht': 'mean',\n",
    "    'w_1stWon': 'sum',\n",
    "    'w_svpt': 'sum'\n",
    "})\n",
    "ioc_stats['serve_win_rate'] = ioc_stats['w_1stWon'] / ioc_stats['w_svpt']\n",
    "\n",
    "# Calculate Pearson correlation\n",
    "correlation, p_value = stats.pearsonr(ioc_stats['winner_ht'], ioc_stats['serve_win_rate'])\n",
    "\n",
    "print(\"Pearson correlation between average height and serve win rate by country:\")\n",
    "print(f\"Correlation coefficient: {correlation}\")\n",
    "print(f\"p-value: {p_value}\")"
   ]
  },
  {
   "cell_type": "code",
   "execution_count": null,
   "id": "77a2c035-5b12-4dcf-a8e7-cce08d051a9a",
   "metadata": {},
   "outputs": [],
   "source": [
    "from scipy import stats\n",
    "\n",
    "# Test hypothesis that higher-ranked players have a higher serve percentage\n",
    "\n",
    "high_ranked = atp_combined_df[atp_combined_df['winner_rank'] <= 10]['w_serve_pct']\n",
    "high_ranked = atp_combined_df[atp_combined_df['winner_rank'] <= 10]['w_serve_pct']\n",
    "low_ranked = atp_combined_df[atp_combined_df['winner_rank'] > 10]['w_serve_pct']\n",
    "t_stat, p_value = stats.ttest_ind(high_ranked, low_ranked)\n",
    "print('T-statistic:', t_stat)\n",
    "print('P-value:', p_value)"
   ]
  },
  {
   "cell_type": "code",
   "execution_count": null,
   "id": "126d39d6-cbec-4c83-96f8-302eac5412b9",
   "metadata": {},
   "outputs": [],
   "source": [
    "# Import necessary libraries\n",
    "import pandas as pd\n",
    "from scipy import stats\n",
    "import statsmodels.api as sm\n",
    "\n",
    "# Hypothesis 1: Higher-ranked players have a higher serve percentage\n",
    "high_ranked = atp_combined_df[atp_combined_df['winner_rank'] <= 10]['w_serve_pct']\n",
    "low_ranked = atp_combined_df[atp_combined_df['winner_rank'] > 10]['w_serve_pct']\n",
    "t_stat, p_value = stats.ttest_ind(high_ranked, low_ranked)\n",
    "print('Hypothesis 1 - T-statistic:', t_stat)\n",
    "print('Hypothesis 1 - P-value:', p_value)\n",
    "\n",
    "# Hypothesis 2: Players with a higher serve percentage are more likely to win matches\n",
    "df['match_success'] = 1  # Assuming all winners are successful\n",
    "logit_model = sm.Logit(df['match_success'], atp_combined_df['w_serve_pct'])\n",
    "result = logit_model.fit()\n",
    "print('Hypothesis 2 - Logistic Regression Summary:')\n",
    "print(result.summary())\n",
    "\n",
    "# Hypothesis 3: The surface of the court affects the serve percentage\n",
    "anova_result = stats.f_oneway(atp_combined_df[atp_combined_df['surface'] == 'Hard']['w_serve_pct'],\n",
    "                              atp_combined_df[atp_combined_df['surface'] == 'Clay']['w_serve_pct'],\n",
    "                              atp_combined_df[atp_combined_df['surface'] == 'Grass']['w_serve_pct'])\n",
    "print('Hypothesis 3 - ANOVA F-statistic:', anova_result.statistic)\n",
    "print('Hypothesis 3 - P-value:', anova_result.pvalue)\n"
   ]
  },
  {
   "cell_type": "raw",
   "id": "5e7e8a35-8a49-4bf9-9640-9f2c976ac2a1",
   "metadata": {},
   "source": [
    "# Conclusion: These 2 last hypothesis tests explore various correlations between surface types, player handedness, nationalities and performance metrics."
   ]
  },
  {
   "cell_type": "code",
   "execution_count": 58,
   "id": "6a718c8a-40d5-4944-bd54-d332120d4601",
   "metadata": {},
   "outputs": [
    {
     "name": "stdout",
     "output_type": "stream",
     "text": [
      "\n",
      "Aces on different surfaces:\n",
      "t-statistic: 25.182150615586938\n",
      "p-value: 9.743286619117737e-134\n",
      "\n",
      "Handedness vs Surface:\n",
      "Chi-square statistic: 1.0004850369044507\n",
      "p-value: 0.9097224332143969\n",
      "\n",
      "Win rates on different surfaces:\n",
      "F-statistic: 72.1026314918895\n",
      "p-value: 9.790381376866208e-32\n",
      "\n",
      "Height vs Aces:\n",
      "Correlation coefficient: 0.4059381885830049\n",
      "p-value: 1.6570993153351097e-288\n"
     ]
    }
   ],
   "source": [
    "import pandas as pd\n",
    "import numpy as np\n",
    "from scipy import stats\n",
    "\n",
    "# Load the data\n",
    "df = pd.read_csv('atp_matches_combined_cleaned.csv')\n",
    "\n",
    "# Define functions for different types of tests\n",
    "\n",
    "def perform_ttest(group1, group2, test_name):\n",
    "    t_stat, p_value = stats.ttest_ind(group1, group2)\n",
    "    print(f\"\\n{test_name}:\")\n",
    "    print(f\"t-statistic: {t_stat}\")\n",
    "    print(f\"p-value: {p_value}\")\n",
    "\n",
    "def perform_chi_square(data, column1, column2, test_name):\n",
    "    contingency_table = pd.crosstab(data[column1], data[column2])\n",
    "    chi2, p_value, dof, expected = stats.chi2_contingency(contingency_table)\n",
    "    print(f\"\\n{test_name}:\")\n",
    "    print(f\"Chi-square statistic: {chi2}\")\n",
    "    print(f\"p-value: {p_value}\")\n",
    "\n",
    "def perform_anova(groups, test_name):\n",
    "    f_statistic, p_value = stats.f_oneway(*groups)\n",
    "    print(f\"\\n{test_name}:\")\n",
    "    print(f\"F-statistic: {f_statistic}\")\n",
    "    print(f\"p-value: {p_value}\")\n",
    "\n",
    "def perform_correlation(x, y, test_name):\n",
    "    corr, p_value = stats.pearsonr(x, y)\n",
    "    print(f\"\\n{test_name}:\")\n",
    "    print(f\"Correlation coefficient: {corr}\")\n",
    "    print(f\"p-value: {p_value}\")\n",
    "\n",
    "\n",
    "\n",
    "# Define test cases\n",
    "\n",
    "test_cases = [\n",
    "    {\n",
    "        'type': 'ttest',\n",
    "        'name': 'Aces on different surfaces',\n",
    "        'group1': df[df['surface'] == 'Hard']['w_ace'],\n",
    "        'group2': df[df['surface'] == 'Clay']['w_ace']\n",
    "    },\n",
    "    {\n",
    "        'type': 'chi_square',\n",
    "        'name': 'Handedness vs Surface',\n",
    "        'data': df,\n",
    "        'column1': 'winner_hand',\n",
    "        'column2': 'surface'\n",
    "    },\n",
    "    {\n",
    "        'type': 'anova',\n",
    "        'name': 'Win rates on different surfaces',\n",
    "        'groups': [df[df['surface'] == surface]['w_1stWon'] / df[df['surface'] == surface]['w_svpt'] \n",
    "                   for surface in ['Hard', 'Clay', 'Grass']]\n",
    "    },\n",
    "    {\n",
    "        'type': 'correlation',\n",
    "        'name': 'Height vs Aces',\n",
    "        'x': df['winner_ht'],\n",
    "        'y': df['w_ace']\n",
    "    }\n",
    "]\n",
    "\n",
    "\n",
    "# Execute all test cases\n",
    "for case in test_cases:\n",
    "    if case['type'] == 'ttest':\n",
    "        perform_ttest(case['group1'], case['group2'], case['name'])\n",
    "    elif case['type'] == 'chi_square':\n",
    "        perform_chi_square(case['data'], case['column1'], case['column2'], case['name'])\n",
    "    elif case['type'] == 'anova':\n",
    "        perform_anova(case['groups'], case['name'])\n",
    "    elif case['type'] == 'correlation':\n",
    "        perform_correlation(case['x'], case['y'], case['name'])"
   ]
  },
  {
   "cell_type": "code",
   "execution_count": null,
   "id": "c0339347-2540-4b1d-8f2c-a3e1783d63fc",
   "metadata": {},
   "outputs": [],
   "source": []
  }
 ],
 "metadata": {
  "kernelspec": {
   "display_name": "fp_venv",
   "language": "python",
   "name": "fp_venv"
  },
  "language_info": {
   "codemirror_mode": {
    "name": "ipython",
    "version": 3
   },
   "file_extension": ".py",
   "mimetype": "text/x-python",
   "name": "python",
   "nbconvert_exporter": "python",
   "pygments_lexer": "ipython3",
   "version": "3.11.7"
  }
 },
 "nbformat": 4,
 "nbformat_minor": 5
}
